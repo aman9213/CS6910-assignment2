{
  "nbformat": 4,
  "nbformat_minor": 0,
  "metadata": {
    "colab": {
      "provenance": []
    },
    "kernelspec": {
      "name": "python3",
      "display_name": "Python 3"
    },
    "language_info": {
      "name": "python"
    },
    "gpuClass": "standard",
    "accelerator": "GPU",
    "widgets": {
      "application/vnd.jupyter.widget-state+json": {
        "7ab85fc2a1004c0cbc59f15b8da5451e": {
          "model_module": "@jupyter-widgets/controls",
          "model_name": "VBoxModel",
          "model_module_version": "1.5.0",
          "state": {
            "_dom_classes": [],
            "_model_module": "@jupyter-widgets/controls",
            "_model_module_version": "1.5.0",
            "_model_name": "VBoxModel",
            "_view_count": null,
            "_view_module": "@jupyter-widgets/controls",
            "_view_module_version": "1.5.0",
            "_view_name": "VBoxView",
            "box_style": "",
            "children": [
              "IPY_MODEL_c5cb22f9737b4dc4a35018720acdcfb2",
              "IPY_MODEL_3b69ac0219ec4f39bb8b44b56edb57d9"
            ],
            "layout": "IPY_MODEL_8a5d4f13ce7b4e1a855f61686138c3a1"
          }
        },
        "c5cb22f9737b4dc4a35018720acdcfb2": {
          "model_module": "@jupyter-widgets/controls",
          "model_name": "LabelModel",
          "model_module_version": "1.5.0",
          "state": {
            "_dom_classes": [],
            "_model_module": "@jupyter-widgets/controls",
            "_model_module_version": "1.5.0",
            "_model_name": "LabelModel",
            "_view_count": null,
            "_view_module": "@jupyter-widgets/controls",
            "_view_module_version": "1.5.0",
            "_view_name": "LabelView",
            "description": "",
            "description_tooltip": null,
            "layout": "IPY_MODEL_b2a0c7096f734f6d88c99233bc31b40d",
            "placeholder": "​",
            "style": "IPY_MODEL_860518ce1fa843f0adf51d1c8bd541c6",
            "value": "0.009 MB of 0.009 MB uploaded (0.000 MB deduped)\r"
          }
        },
        "3b69ac0219ec4f39bb8b44b56edb57d9": {
          "model_module": "@jupyter-widgets/controls",
          "model_name": "FloatProgressModel",
          "model_module_version": "1.5.0",
          "state": {
            "_dom_classes": [],
            "_model_module": "@jupyter-widgets/controls",
            "_model_module_version": "1.5.0",
            "_model_name": "FloatProgressModel",
            "_view_count": null,
            "_view_module": "@jupyter-widgets/controls",
            "_view_module_version": "1.5.0",
            "_view_name": "ProgressView",
            "bar_style": "",
            "description": "",
            "description_tooltip": null,
            "layout": "IPY_MODEL_857fca5910b24f8f81d9ec02251defbb",
            "max": 1,
            "min": 0,
            "orientation": "horizontal",
            "style": "IPY_MODEL_3d8276bc0c7c48ee805430a4f7414ba7",
            "value": 0.938347223616829
          }
        },
        "8a5d4f13ce7b4e1a855f61686138c3a1": {
          "model_module": "@jupyter-widgets/base",
          "model_name": "LayoutModel",
          "model_module_version": "1.2.0",
          "state": {
            "_model_module": "@jupyter-widgets/base",
            "_model_module_version": "1.2.0",
            "_model_name": "LayoutModel",
            "_view_count": null,
            "_view_module": "@jupyter-widgets/base",
            "_view_module_version": "1.2.0",
            "_view_name": "LayoutView",
            "align_content": null,
            "align_items": null,
            "align_self": null,
            "border": null,
            "bottom": null,
            "display": null,
            "flex": null,
            "flex_flow": null,
            "grid_area": null,
            "grid_auto_columns": null,
            "grid_auto_flow": null,
            "grid_auto_rows": null,
            "grid_column": null,
            "grid_gap": null,
            "grid_row": null,
            "grid_template_areas": null,
            "grid_template_columns": null,
            "grid_template_rows": null,
            "height": null,
            "justify_content": null,
            "justify_items": null,
            "left": null,
            "margin": null,
            "max_height": null,
            "max_width": null,
            "min_height": null,
            "min_width": null,
            "object_fit": null,
            "object_position": null,
            "order": null,
            "overflow": null,
            "overflow_x": null,
            "overflow_y": null,
            "padding": null,
            "right": null,
            "top": null,
            "visibility": null,
            "width": null
          }
        },
        "b2a0c7096f734f6d88c99233bc31b40d": {
          "model_module": "@jupyter-widgets/base",
          "model_name": "LayoutModel",
          "model_module_version": "1.2.0",
          "state": {
            "_model_module": "@jupyter-widgets/base",
            "_model_module_version": "1.2.0",
            "_model_name": "LayoutModel",
            "_view_count": null,
            "_view_module": "@jupyter-widgets/base",
            "_view_module_version": "1.2.0",
            "_view_name": "LayoutView",
            "align_content": null,
            "align_items": null,
            "align_self": null,
            "border": null,
            "bottom": null,
            "display": null,
            "flex": null,
            "flex_flow": null,
            "grid_area": null,
            "grid_auto_columns": null,
            "grid_auto_flow": null,
            "grid_auto_rows": null,
            "grid_column": null,
            "grid_gap": null,
            "grid_row": null,
            "grid_template_areas": null,
            "grid_template_columns": null,
            "grid_template_rows": null,
            "height": null,
            "justify_content": null,
            "justify_items": null,
            "left": null,
            "margin": null,
            "max_height": null,
            "max_width": null,
            "min_height": null,
            "min_width": null,
            "object_fit": null,
            "object_position": null,
            "order": null,
            "overflow": null,
            "overflow_x": null,
            "overflow_y": null,
            "padding": null,
            "right": null,
            "top": null,
            "visibility": null,
            "width": null
          }
        },
        "860518ce1fa843f0adf51d1c8bd541c6": {
          "model_module": "@jupyter-widgets/controls",
          "model_name": "DescriptionStyleModel",
          "model_module_version": "1.5.0",
          "state": {
            "_model_module": "@jupyter-widgets/controls",
            "_model_module_version": "1.5.0",
            "_model_name": "DescriptionStyleModel",
            "_view_count": null,
            "_view_module": "@jupyter-widgets/base",
            "_view_module_version": "1.2.0",
            "_view_name": "StyleView",
            "description_width": ""
          }
        },
        "857fca5910b24f8f81d9ec02251defbb": {
          "model_module": "@jupyter-widgets/base",
          "model_name": "LayoutModel",
          "model_module_version": "1.2.0",
          "state": {
            "_model_module": "@jupyter-widgets/base",
            "_model_module_version": "1.2.0",
            "_model_name": "LayoutModel",
            "_view_count": null,
            "_view_module": "@jupyter-widgets/base",
            "_view_module_version": "1.2.0",
            "_view_name": "LayoutView",
            "align_content": null,
            "align_items": null,
            "align_self": null,
            "border": null,
            "bottom": null,
            "display": null,
            "flex": null,
            "flex_flow": null,
            "grid_area": null,
            "grid_auto_columns": null,
            "grid_auto_flow": null,
            "grid_auto_rows": null,
            "grid_column": null,
            "grid_gap": null,
            "grid_row": null,
            "grid_template_areas": null,
            "grid_template_columns": null,
            "grid_template_rows": null,
            "height": null,
            "justify_content": null,
            "justify_items": null,
            "left": null,
            "margin": null,
            "max_height": null,
            "max_width": null,
            "min_height": null,
            "min_width": null,
            "object_fit": null,
            "object_position": null,
            "order": null,
            "overflow": null,
            "overflow_x": null,
            "overflow_y": null,
            "padding": null,
            "right": null,
            "top": null,
            "visibility": null,
            "width": null
          }
        },
        "3d8276bc0c7c48ee805430a4f7414ba7": {
          "model_module": "@jupyter-widgets/controls",
          "model_name": "ProgressStyleModel",
          "model_module_version": "1.5.0",
          "state": {
            "_model_module": "@jupyter-widgets/controls",
            "_model_module_version": "1.5.0",
            "_model_name": "ProgressStyleModel",
            "_view_count": null,
            "_view_module": "@jupyter-widgets/base",
            "_view_module_version": "1.2.0",
            "_view_name": "StyleView",
            "bar_color": null,
            "description_width": ""
          }
        }
      }
    }
  },
  "cells": [
    {
      "cell_type": "code",
      "execution_count": 1,
      "metadata": {
        "id": "bEODjMy712_B"
      },
      "outputs": [],
      "source": [
        "import os \n",
        "import cv2\n",
        "import numpy as np\n",
        "from tqdm import tqdm\n",
        "import torch\n",
        "import torch.nn as nn\n",
        "import torch.nn.functional as F\n",
        "import torchvision\n",
        "from torchvision.transforms import transforms\n",
        "from torch.utils.data import DataLoader \n",
        "import pathlib\n",
        "import glob\n",
        "import torch.optim as optim\n",
        "from torch.autograd import Variable\n",
        "import matplotlib.pyplot as plt\n",
        "from torch import flatten"
      ]
    },
    {
      "cell_type": "code",
      "source": [],
      "metadata": {
        "id": "F6rGZjTj3b4P"
      },
      "execution_count": 1,
      "outputs": []
    },
    {
      "cell_type": "code",
      "source": [],
      "metadata": {
        "id": "9p83edYh2oR_"
      },
      "execution_count": 1,
      "outputs": []
    },
    {
      "cell_type": "code",
      "source": [
        "from google.colab import files"
      ],
      "metadata": {
        "id": "8bATSpae2fNB"
      },
      "execution_count": 2,
      "outputs": []
    },
    {
      "cell_type": "code",
      "source": [
        "from google.colab import drive\n",
        "drive.mount('/content/drive')\n"
      ],
      "metadata": {
        "colab": {
          "base_uri": "https://localhost:8080/"
        },
        "id": "I1cENP3g2guq",
        "outputId": "e4af3460-f27d-4470-e52d-cb8de4675831"
      },
      "execution_count": 3,
      "outputs": [
        {
          "output_type": "stream",
          "name": "stdout",
          "text": [
            "Mounted at /content/drive\n"
          ]
        }
      ]
    },
    {
      "cell_type": "code",
      "source": [
        "import zipfile\n",
        "import os\n",
        "\n",
        "zip_ref = zipfile.ZipFile('/content/drive/MyDrive/nature_12K.zip', 'r') #Opens the zip file in read mode\n",
        "zip_ref.extractall('/nature') #Extracts the files into the /nature folder\n",
        "zip_ref.close()"
      ],
      "metadata": {
        "id": "Um07IK4i2qQ8"
      },
      "execution_count": 4,
      "outputs": []
    },
    {
      "cell_type": "markdown",
      "source": [],
      "metadata": {
        "id": "0_3m1cvQNQ-I"
      }
    },
    {
      "cell_type": "code",
      "source": [
        "device=torch.device('cuda' if torch.cuda.is_available() else 'cpu')\n",
        "print(device)"
      ],
      "metadata": {
        "colab": {
          "base_uri": "https://localhost:8080/"
        },
        "id": "EjmXBrrqDptX",
        "outputId": "3efb724b-a9a5-4ebd-c46e-4b42909d4981"
      },
      "execution_count": 5,
      "outputs": [
        {
          "output_type": "stream",
          "name": "stdout",
          "text": [
            "cuda\n"
          ]
        }
      ]
    },
    {
      "cell_type": "code",
      "source": [
        "\n",
        "\n",
        "from torch.utils.data.sampler import SubsetRandomSampler\n",
        "\n",
        "# how many samples per batch to load\n",
        "batch_size =128\n",
        "# percentage of training set to use as validation\n",
        "valid_size = 0.2\n",
        "\n",
        "#To unzip dataset in colab\n",
        "data_dir='/nature/inaturalist_12K'\n",
        "\n",
        "train_transforms = transforms.Compose([transforms.Resize(256),\n",
        "                                       transforms.RandomResizedCrop(224),\n",
        "                                       #transforms.RandomHorizontalFlip(),\n",
        "                                      #  transforms.RandomAffine(degrees=0,scale=(0.3,1)),\n",
        "                                       transforms.ToTensor(),\n",
        "                                       \n",
        "                                       transforms.Normalize([0.5,0.5, 0.5],\n",
        "                                                            [0.5,0.5, 0.5])])\n",
        "\n",
        "test_transforms = transforms.Compose([transforms.Resize(224),\n",
        "                                      # transforms.RandomResizedCrop(224),\n",
        "                                      \n",
        "                                      transforms.ToTensor(),\n",
        "                                      transforms.Normalize([0.5,0.5,0.5],\n",
        "                                                           [0.5,0.5,0.5])])\n",
        "\n",
        "# Pass transforms in here, then run the next cell to see how the transforms look\n",
        "train_data = torchvision.datasets.ImageFolder(data_dir + '/train', transform=train_transforms)\n",
        "test_data = torchvision.datasets.ImageFolder(data_dir + '/val', transform=test_transforms)\n",
        "num_train = len(train_data)\n",
        "indices = list(range(num_train))\n",
        "np.random.shuffle(indices)\n",
        "split = int(np.floor(valid_size * num_train))\n",
        "\n",
        "train_idx, valid_idx = indices[split:], indices[:split]   ################<-------------------\n",
        "\n",
        "# define samplers for obtaining training and validation batches\n",
        "train_sampler = SubsetRandomSampler(train_idx)\n",
        "valid_sampler = SubsetRandomSampler(valid_idx)\n",
        "print(len(train_sampler))\n",
        "# prepare data loaders (combine dataset and sampler)\n",
        "train_loader = torch.utils.data.DataLoader(train_data, batch_size=batch_size,\n",
        "    sampler=train_sampler,num_workers=2)\n",
        "valid_loader = torch.utils.data.DataLoader(train_data, batch_size=batch_size, \n",
        "    sampler=valid_sampler,num_workers=2)\n",
        "test_loader = torch.utils.data.DataLoader(test_data, batch_size=batch_size)\n",
        "train_step=len(train_loader) ### this will return total data in train_sampler//batch_size(8000/128=63)\n",
        "val_step=len(valid_loader)\n",
        "print(train_step,val_step)"
      ],
      "metadata": {
        "colab": {
          "base_uri": "https://localhost:8080/"
        },
        "id": "z75xQaJn1GLu",
        "outputId": "c6fe6427-1079-48f6-b644-55d8e2cfbd87"
      },
      "execution_count": 6,
      "outputs": [
        {
          "output_type": "stream",
          "name": "stdout",
          "text": [
            "8000\n",
            "63 16\n"
          ]
        }
      ]
    },
    {
      "cell_type": "code",
      "source": [
        "# transformer=transforms.Compose([transforms.Resize((150,150)),transforms.RandomHorizontalFlip(),transforms.RandomRotation((-90,90)),transforms.RandomAffine(degrees=0,scale=(0.3,0.3)),transforms.ToTensor(),transforms.Normalize([0.5,0.5,0.5],[0.5,0.5,0.5])])\n",
        "                            \n"
      ],
      "metadata": {
        "id": "VxyCElkE2x4E"
      },
      "execution_count": 7,
      "outputs": []
    },
    {
      "cell_type": "code",
      "source": [],
      "metadata": {
        "id": "JjfciKCVthQr"
      },
      "execution_count": 7,
      "outputs": []
    },
    {
      "cell_type": "code",
      "source": [
        "# batch=256\n",
        "# #dataloader\n",
        "train_path='/nature/inaturalist_12K/train'\n",
        "test_path='/nature/inaturalist_12K/val'\n",
        "# train_loader=DataLoader(torchvision.datasets.ImageFolder(train_path,transform=transformer),\n",
        "#                         batch_size=batch,shuffle=True)\n",
        "# test_loader=DataLoader(torchvision.datasets.ImageFolder(test_path,transform=transformer),\n",
        "#                         batch_size=batch,shuffle=True)\n"
      ],
      "metadata": {
        "id": "xpLhg1OKG7FV"
      },
      "execution_count": 8,
      "outputs": []
    },
    {
      "cell_type": "code",
      "source": [
        "print(len(train_loader))"
      ],
      "metadata": {
        "colab": {
          "base_uri": "https://localhost:8080/"
        },
        "id": "k8i7MjCluTIp",
        "outputId": "94ddc8f0-c983-46d4-e8a1-97cdac189150"
      },
      "execution_count": 9,
      "outputs": [
        {
          "output_type": "stream",
          "name": "stdout",
          "text": [
            "63\n"
          ]
        }
      ]
    },
    {
      "cell_type": "code",
      "source": [
        "# # X,Y=train_loader[0]\n",
        "# dataiter = iter(train_loader)\n",
        "# images, labels = dataiter.next() \n",
        "# print(labels[0])"
      ],
      "metadata": {
        "id": "F1cqI8GzOwGY"
      },
      "execution_count": 10,
      "outputs": []
    },
    {
      "cell_type": "code",
      "source": [
        "root=pathlib.Path(train_path)\n",
        "classes=sorted([j.name.split('/')[-1] for j in root.iterdir()])"
      ],
      "metadata": {
        "id": "L5jEiu5gKOu1"
      },
      "execution_count": 11,
      "outputs": []
    },
    {
      "cell_type": "code",
      "source": [
        "classes=(classes[1:])"
      ],
      "metadata": {
        "id": "dxl3VlAHLGFX"
      },
      "execution_count": 12,
      "outputs": []
    },
    {
      "cell_type": "code",
      "source": [
        "print(classes)"
      ],
      "metadata": {
        "colab": {
          "base_uri": "https://localhost:8080/"
        },
        "id": "iL7PrwUfLLNF",
        "outputId": "451b2daf-ea5a-4e02-e80d-99a17f1e6c0d"
      },
      "execution_count": 13,
      "outputs": [
        {
          "output_type": "stream",
          "name": "stdout",
          "text": [
            "['Amphibia', 'Animalia', 'Arachnida', 'Aves', 'Fungi', 'Insecta', 'Mammalia', 'Mollusca', 'Plantae', 'Reptilia']\n"
          ]
        }
      ]
    },
    {
      "cell_type": "code",
      "source": [
        "train_count=len(glob.glob(train_path+'/**/*.jpg'))\n",
        "train_count=int(train_count-train_count*0.2)  #################<----------------\n",
        "test_count=len(glob.glob(test_path+'/**/*.jpg'))\n",
        "val_count=int(train_count*0.2)"
      ],
      "metadata": {
        "id": "gKHSXAoXx0MO"
      },
      "execution_count": 14,
      "outputs": []
    },
    {
      "cell_type": "code",
      "source": [
        "print(train_count,test_count)"
      ],
      "metadata": {
        "colab": {
          "base_uri": "https://localhost:8080/"
        },
        "id": "G-4Y04JAx5M_",
        "outputId": "10c57322-bbb9-4048-9e0b-ea43ea596b9f"
      },
      "execution_count": 15,
      "outputs": [
        {
          "output_type": "stream",
          "name": "stdout",
          "text": [
            "7999 2000\n"
          ]
        }
      ]
    },
    {
      "cell_type": "code",
      "source": [
        "# K=32\n",
        "# S=3\n",
        "# batch_norm=True\n",
        "# activation='Relu'\n",
        "# nodes=512\n",
        "class ConvNet(nn.Module):\n",
        "  def __init__(self,K,S,factor,activation,batch_norm,drop_out,nodes,num_class=10):\n",
        "    \n",
        "    super(ConvNet,self).__init__()\n",
        "    \n",
        "    self.batch_norm=batch_norm\n",
        "    \n",
        "    self.conv1=nn.Conv2d(in_channels=3,out_channels=K,kernel_size=S,stride=1,padding=(S-1)//2) #its output size will be=(batch=256,K,200,200)\n",
        "    \n",
        "    if self.batch_norm=='Yes':\n",
        "      self.bn1=nn.BatchNorm2d(K)\n",
        "      \n",
        "    if activation=='Relu':\n",
        "      \n",
        "      self.activ1=nn.ReLU()\n",
        "    elif activation=='Gelu':\n",
        "    \n",
        "      self.activ1=nn.GELU()\n",
        "    elif activation=='Silu':\n",
        "      \n",
        "      self.activ1=nn.SiLU()\n",
        "    elif activation=='Mish':\n",
        "      \n",
        "      self.activ1=nn.Mish()\n",
        "      \n",
        "    self.maxpool1=nn.MaxPool2d(kernel_size=2)## shape=(256,K,100,100)\n",
        "    \n",
        "    K_prev=K\n",
        "    K=int(K*factor)\n",
        "    #layer 2\n",
        "    self.conv2=nn.Conv2d(in_channels=K_prev,out_channels=K,kernel_size=S,stride=1,padding=(S-1)//2) #its output size will be=(batch=256,K,100,100)\n",
        "    if self.batch_norm=='Yes':\n",
        "      self.bn2=nn.BatchNorm2d(K)\n",
        "    if activation=='Relu':\n",
        "      self.activ2=nn.ReLU()\n",
        "    elif activation=='Gelu':\n",
        "      self.activ2=nn.GELU()\n",
        "    elif activation=='Silu':\n",
        "      self.activ2=nn.SiLU()\n",
        "    elif activation=='Mish':\n",
        "      self.activ2=nn.Mish()\n",
        "    self.maxpool2=nn.MaxPool2d(kernel_size=2)\n",
        "    ##shape=(256,K,50,50)\n",
        "    K_prev=K\n",
        "    K=int(K*factor)\n",
        "    # layer 3\n",
        "    self.conv3=nn.Conv2d(in_channels=K_prev,out_channels=K,kernel_size=S,stride=1,padding=(S-1)//2) #its output size will be=(batch=256,K,50,50)\n",
        "    if self.batch_norm=='Yes':\n",
        "      self.bn3=nn.BatchNorm2d(K)\n",
        "    if activation=='Relu':\n",
        "      self.activ3=nn.ReLU()\n",
        "    elif activation=='Gelu':\n",
        "      self.activ3=nn.GELU()\n",
        "    elif activation=='Silu':\n",
        "      self.activ3=nn.SiLU()\n",
        "    elif activation=='Mish':\n",
        "      self.activ3=nn.Mish()\n",
        "    self.maxpool3=nn.MaxPool2d(kernel_size=2)\n",
        "    ##shape=(256,K,25,25)\n",
        "    K_prev=K\n",
        "    K=int(K*factor)\n",
        "    #layer 4\n",
        "    self.conv4=nn.Conv2d(in_channels=K_prev,out_channels=K,kernel_size=S,stride=1,padding=(S-1)//2) #its output size will be=(batch=256,K,25,25)\n",
        "    if self.batch_norm=='Yes':\n",
        "      self.bn4=nn.BatchNorm2d(K)\n",
        "    if activation=='Relu':\n",
        "      self.activ4=nn.ReLU()\n",
        "    elif activation=='Gelu':\n",
        "      self.activ4=nn.GELU()\n",
        "    elif activation=='Silu':\n",
        "      self.activ4=nn.SiLU()\n",
        "    elif activation=='Mish':\n",
        "      self.activ4=nn.Mish()\n",
        "    self.maxpool4=nn.MaxPool2d(kernel_size=2)\n",
        "    ## shape=(256,K,12,12)\n",
        "    K_prev=K\n",
        "    K=int(K*factor)\n",
        "    #layer 5\n",
        "    self.conv5=nn.Conv2d(in_channels=K_prev,out_channels=K,kernel_size=S,stride=1,padding=(S-1)//2) #its output size will be=(batch=256,K,12,12)\n",
        "    if self.batch_norm=='Yes':\n",
        "      self.bn5=nn.BatchNorm2d(K)\n",
        "    if activation=='Relu':\n",
        "      self.activ5=nn.ReLU()\n",
        "    elif activation=='Gelu':\n",
        "      self.activ5=nn.GELU()\n",
        "    elif activation=='Silu':\n",
        "      self.activ5=nn.SiLU()\n",
        "    elif activation=='Mish':\n",
        "      self.activ5=nn.Mish()\n",
        "    self.maxpool5=nn.MaxPool2d(kernel_size=2)\n",
        "    ## shape(256,K,6,6)\n",
        "    #print(len(self.maxpool5))\n",
        "     ## shape(256,K,)\n",
        "    ## FC layer\n",
        "    # self.dropout1=nn.Dropout(drop_out)            ### ADD DROPOUT HERE\n",
        "    #print(\"D:\",self.dropout1.shape)\n",
        "    self.fc1=nn.Linear(in_features=7*7*K,out_features=nodes)\n",
        "    self.dropout2=nn.Dropout(drop_out)   ### ADD DROP OUT HERE\n",
        "    self.fc2=nn.Linear(in_features=nodes,out_features=10)\n",
        "    \n",
        "    ##feed forward\n",
        "\n",
        "  def forward(self,x):\n",
        "    \n",
        "    out=self.conv1(x)\n",
        "    if self.batch_norm=='Yes':\n",
        "      out=self.bn1(out)\n",
        "    out=self.activ1(out)\n",
        "    out=self.maxpool1(out)\n",
        "\n",
        "    out=self.conv2(out)\n",
        "    if self.batch_norm=='Yes':\n",
        "      out=self.bn2(out)\n",
        "    out=self.activ2(out)\n",
        "    out=self.maxpool2(out)\n",
        "\n",
        "    out=self.conv3(out)\n",
        "    if self.batch_norm=='Yes':\n",
        "      out=self.bn3(out)\n",
        "    out=self.activ3(out)\n",
        "    out=self.maxpool3(out)\n",
        "\n",
        "    out=self.conv4(out)\n",
        "    if self.batch_norm=='Yes':\n",
        "      out=self.bn4(out)\n",
        "    out=self.activ4(out)\n",
        "    out=self.maxpool4(out)\n",
        "    \n",
        "    out=self.conv5(out)\n",
        "    if self.batch_norm=='Yes':\n",
        "      out=self.bn5(out)\n",
        "    out=self.activ5(out)\n",
        "    out=self.maxpool5(out)\n",
        "    \n",
        "    # out=self.dropout1(out)\n",
        "    b,c,d,e=out.shape\n",
        "  \n",
        "    out=out.view(-1,d*e*c)  \n",
        "    \n",
        "    out=F.relu(self.fc1(out))\n",
        "    out=self.dropout2(out)\n",
        "    out=F.relu(self.fc2(out))\n",
        "    out=F.softmax(out,dim=1)\n",
        "    \n",
        "    return out\n",
        "\n",
        "\n",
        "# K,S,factor,activation,batch_norm,drop_out,nodes=64,3,1,'Gelu','No',0.3,256\n",
        "# net=ConvNet(K,S,factor,activation,batch_norm,drop_out,nodes,num_class=10)\n",
        "# print(net)"
      ],
      "metadata": {
        "id": "PhWQVfq2NFms"
      },
      "execution_count": 16,
      "outputs": []
    },
    {
      "cell_type": "code",
      "source": [
        "# model=ConvNet(K,S,factor,activation,batch_norm,drop_out,nodes,num_class=10).to(device)"
      ],
      "metadata": {
        "id": "ITx6LfLbuS0t"
      },
      "execution_count": 17,
      "outputs": []
    },
    {
      "cell_type": "code",
      "source": [
        "# import torch.optim as optim\n",
        "\n",
        "# optimizer=optim.Adam(model.parameters(),lr=0.0002)\n",
        "# loss_fun=nn.CrossEntropyLoss()\n",
        "\n"
      ],
      "metadata": {
        "id": "IW5ocx8YD7Tk"
      },
      "execution_count": 18,
      "outputs": []
    },
    {
      "cell_type": "code",
      "source": [
        "# from torch.autograd import Variable\n",
        "# ##model training\n",
        "\n",
        "# best_accuracy=0\n",
        "\n",
        "# for epoch in range(30):\n",
        "\n",
        "#   model.train()\n",
        "#   train_accuracy=0.0\n",
        "#   train_loss=0.0\n",
        "#   for i,(images,labels) in enumerate(train_loader):\n",
        "    \n",
        "    \n",
        "#     images=images.to(device)\n",
        "#     labels=labels.to(device)\n",
        "    \n",
        "#     optimizer.zero_grad()\n",
        "    \n",
        "#     outputs=model(images)\n",
        "#     loss=loss_fun(outputs,labels)\n",
        "#     # print(loss.dtype)\n",
        "#     #print(loss)\n",
        "#     loss.backward()\n",
        "#     optimizer.step()\n",
        "#     #print(loss.cpu().data)\n",
        "#     train_loss+=(loss.item())/batch_size\n",
        "#     #print(loss.item())\n",
        "#     _,prediction=torch.max(outputs.data,1)\n",
        "    \n",
        "#     train_accuracy+=int(torch.sum(prediction==labels.data))\n",
        "#   train_accuracy=(train_accuracy/(batch_size*train_step))*100\n",
        "#   train_loss=(train_loss/train_step)*100\n",
        "#   print(train_loss)\n",
        "\n",
        "#   ##evalution on testing data\n",
        "#   model.eval()\n",
        "#   with torch.no_grad():\n",
        "#     test_accuracy=0.0\n",
        "\n",
        "#     for i,(images,labels) in enumerate(valid_loader):\n",
        "    \n",
        "#       images=images.to(device)\n",
        "#       labels=labels.to(device)\n",
        "      \n",
        "#       outputs=model(images)\n",
        "\n",
        "#       _,prediction=torch.max(outputs.data,1)\n",
        "#       test_accuracy+=int(torch.sum(prediction==labels.data))\n",
        "  \n",
        "#   test_accuracy=(test_accuracy/(batch_size*val_step))*100\n",
        "\n",
        "\n",
        "#   print('Epoch:'+str(epoch)+' Train Loss:'+str(float(train_loss))+' Train accuracy'+str(train_accuracy)+' valaccuracy'+str(test_accuracy))\n",
        "  \n",
        "#   # if test_accuracy>best_accuracy:\n",
        "#   #   torch.save(model.state_dict(),'best_checkpoint.model')\n",
        "#   #   best_accuracy=test_accuracy\n"
      ],
      "metadata": {
        "id": "7j9wOFKASN5B"
      },
      "execution_count": 19,
      "outputs": []
    },
    {
      "cell_type": "code",
      "source": [
        " !pip install wandb"
      ],
      "metadata": {
        "id": "wkWg59tXKqv6",
        "colab": {
          "base_uri": "https://localhost:8080/"
        },
        "outputId": "1980111b-831a-42be-834b-2a5cdcd440a6"
      },
      "execution_count": 17,
      "outputs": [
        {
          "output_type": "stream",
          "name": "stdout",
          "text": [
            "Looking in indexes: https://pypi.org/simple, https://us-python.pkg.dev/colab-wheels/public/simple/\n",
            "Collecting wandb\n",
            "  Downloading wandb-0.14.2-py3-none-any.whl (2.0 MB)\n",
            "\u001b[2K     \u001b[90m━━━━━━━━━━━━━━━━━━━━━━━━━━━━━━━━━━━━━━━━\u001b[0m \u001b[32m2.0/2.0 MB\u001b[0m \u001b[31m26.5 MB/s\u001b[0m eta \u001b[36m0:00:00\u001b[0m\n",
            "\u001b[?25hRequirement already satisfied: psutil>=5.0.0 in /usr/local/lib/python3.9/dist-packages (from wandb) (5.9.4)\n",
            "Collecting GitPython!=3.1.29,>=1.0.0\n",
            "  Downloading GitPython-3.1.31-py3-none-any.whl (184 kB)\n",
            "\u001b[2K     \u001b[90m━━━━━━━━━━━━━━━━━━━━━━━━━━━━━━━━━━━━━━\u001b[0m \u001b[32m184.3/184.3 KB\u001b[0m \u001b[31m18.3 MB/s\u001b[0m eta \u001b[36m0:00:00\u001b[0m\n",
            "\u001b[?25hRequirement already satisfied: Click!=8.0.0,>=7.0 in /usr/local/lib/python3.9/dist-packages (from wandb) (8.1.3)\n",
            "Requirement already satisfied: requests<3,>=2.0.0 in /usr/local/lib/python3.9/dist-packages (from wandb) (2.27.1)\n",
            "Collecting docker-pycreds>=0.4.0\n",
            "  Downloading docker_pycreds-0.4.0-py2.py3-none-any.whl (9.0 kB)\n",
            "Requirement already satisfied: PyYAML in /usr/local/lib/python3.9/dist-packages (from wandb) (6.0)\n",
            "Collecting setproctitle\n",
            "  Downloading setproctitle-1.3.2-cp39-cp39-manylinux_2_5_x86_64.manylinux1_x86_64.manylinux_2_17_x86_64.manylinux2014_x86_64.whl (30 kB)\n",
            "Requirement already satisfied: typing-extensions in /usr/local/lib/python3.9/dist-packages (from wandb) (4.5.0)\n",
            "Requirement already satisfied: protobuf!=4.21.0,<5,>=3.15.0 in /usr/local/lib/python3.9/dist-packages (from wandb) (3.20.3)\n",
            "Requirement already satisfied: setuptools in /usr/local/lib/python3.9/dist-packages (from wandb) (67.6.1)\n",
            "Collecting pathtools\n",
            "  Downloading pathtools-0.1.2.tar.gz (11 kB)\n",
            "  Preparing metadata (setup.py) ... \u001b[?25l\u001b[?25hdone\n",
            "Requirement already satisfied: appdirs>=1.4.3 in /usr/local/lib/python3.9/dist-packages (from wandb) (1.4.4)\n",
            "Collecting sentry-sdk>=1.0.0\n",
            "  Downloading sentry_sdk-1.19.1-py2.py3-none-any.whl (199 kB)\n",
            "\u001b[2K     \u001b[90m━━━━━━━━━━━━━━━━━━━━━━━━━━━━━━━━━━━━━━\u001b[0m \u001b[32m199.2/199.2 KB\u001b[0m \u001b[31m26.5 MB/s\u001b[0m eta \u001b[36m0:00:00\u001b[0m\n",
            "\u001b[?25hRequirement already satisfied: six>=1.4.0 in /usr/local/lib/python3.9/dist-packages (from docker-pycreds>=0.4.0->wandb) (1.16.0)\n",
            "Collecting gitdb<5,>=4.0.1\n",
            "  Downloading gitdb-4.0.10-py3-none-any.whl (62 kB)\n",
            "\u001b[2K     \u001b[90m━━━━━━━━━━━━━━━━━━━━━━━━━━━━━━━━━━━━━━━━\u001b[0m \u001b[32m62.7/62.7 KB\u001b[0m \u001b[31m9.6 MB/s\u001b[0m eta \u001b[36m0:00:00\u001b[0m\n",
            "\u001b[?25hRequirement already satisfied: urllib3<1.27,>=1.21.1 in /usr/local/lib/python3.9/dist-packages (from requests<3,>=2.0.0->wandb) (1.26.15)\n",
            "Requirement already satisfied: charset-normalizer~=2.0.0 in /usr/local/lib/python3.9/dist-packages (from requests<3,>=2.0.0->wandb) (2.0.12)\n",
            "Requirement already satisfied: idna<4,>=2.5 in /usr/local/lib/python3.9/dist-packages (from requests<3,>=2.0.0->wandb) (3.4)\n",
            "Requirement already satisfied: certifi>=2017.4.17 in /usr/local/lib/python3.9/dist-packages (from requests<3,>=2.0.0->wandb) (2022.12.7)\n",
            "Collecting smmap<6,>=3.0.1\n",
            "  Downloading smmap-5.0.0-py3-none-any.whl (24 kB)\n",
            "Building wheels for collected packages: pathtools\n",
            "  Building wheel for pathtools (setup.py) ... \u001b[?25l\u001b[?25hdone\n",
            "  Created wheel for pathtools: filename=pathtools-0.1.2-py3-none-any.whl size=8807 sha256=4b346a04d952e86b39f9a768d94f5282349b64a2e0fa18496e2ebb8693d2278d\n",
            "  Stored in directory: /root/.cache/pip/wheels/b7/0a/67/ada2a22079218c75a88361c0782855cc72aebc4d18d0289d05\n",
            "Successfully built pathtools\n",
            "Installing collected packages: pathtools, smmap, setproctitle, sentry-sdk, docker-pycreds, gitdb, GitPython, wandb\n",
            "Successfully installed GitPython-3.1.31 docker-pycreds-0.4.0 gitdb-4.0.10 pathtools-0.1.2 sentry-sdk-1.19.1 setproctitle-1.3.2 smmap-5.0.0 wandb-0.14.2\n"
          ]
        }
      ]
    },
    {
      "cell_type": "code",
      "source": [
        "# install,login and import wandb"
      ],
      "metadata": {
        "id": "BZp_Tt_VKqtl"
      },
      "execution_count": 21,
      "outputs": []
    },
    {
      "cell_type": "code",
      "source": [
        "import wandb"
      ],
      "metadata": {
        "id": "jIWkhYw0Kqp7"
      },
      "execution_count": 18,
      "outputs": []
    },
    {
      "cell_type": "code",
      "source": [
        "!wandb login --relogin"
      ],
      "metadata": {
        "id": "Ooki_I94Kqmi",
        "colab": {
          "base_uri": "https://localhost:8080/"
        },
        "outputId": "64d796ad-c262-4031-8ef3-d1b13366d794"
      },
      "execution_count": 19,
      "outputs": [
        {
          "output_type": "stream",
          "name": "stdout",
          "text": [
            "\u001b[34m\u001b[1mwandb\u001b[0m: Logging into wandb.ai. (Learn how to deploy a W&B server locally: https://wandb.me/wandb-server)\n",
            "\u001b[34m\u001b[1mwandb\u001b[0m: You can find your API key in your browser here: https://wandb.ai/authorize\n",
            "\u001b[34m\u001b[1mwandb\u001b[0m: Paste an API key from your profile and hit enter, or press ctrl+c to quit: \n",
            "\u001b[34m\u001b[1mwandb\u001b[0m: Appending key for api.wandb.ai to your netrc file: /root/.netrc\n"
          ]
        }
      ]
    },
    {
      "cell_type": "code",
      "source": [
        "sweep_configuration={'name':'EE22s037','method':'bayes',\n",
        "                      'metric':{'name':'val_acc','goal':'maximize'},\n",
        "                      'parameters':{#'epoch':{'values':[15,30]},\n",
        "                                    # 'lr':{'values':[0.01,0.001,0.0005]},\n",
        "                                    'filter_n':{'values':[32,64]},\n",
        "                                    # 'filter_size':{'values':[3]},\n",
        "                                    'filter_org':{'values':[1,2,0.5]},\n",
        "                                    'activation':{'values':['Relu','Gelu','Silu','Mish']},\n",
        "                                    'batch_norm':{'values':['Yes','No']},\n",
        "                                    'drop_out':{'values':[0.2,0.3]}\n",
        "                                    #'neurons':{'values':[128,256,512]}                   \n",
        "                                   }\n",
        "                    \n",
        "                      \n",
        "                      }\n",
        "\n",
        "\n",
        "\n",
        "def train():\n",
        "  wandb.init()\n",
        "  # epoch=wandb.config.epoch\n",
        "  #lr=wandb.config.lr\n",
        "  K=wandb.config.filter_n\n",
        "  #S=wandb.config.filter_size\n",
        "  factor=wandb.config.filter_org\n",
        "  activation=wandb.config.activation\n",
        "  batch_norm=wandb.config.batch_norm\n",
        "  drop_out=wandb.config.drop_out\n",
        "  #nodes=wandb.config.neurons\n",
        "  S=3  ## filter_size\n",
        "  run_name=\"Fn_{}_Fo_{}_acf_{}_bn_{}_Do_{}\".format(K,factor,activation,batch_norm,drop_out)\n",
        "  print(\"run_name:\",run_name)\n",
        "  \n",
        "  model=ConvNet(K,S,factor,activation,batch_norm,drop_out,nodes=256,num_class=10).to(device)\n",
        "  \n",
        "  optimizer=optim.Adam(model.parameters(),lr=0.0003)\n",
        "  loss_fun=nn.CrossEntropyLoss()\n",
        "  best_accuracy=0\n",
        "  train_Loss=[]\n",
        "  train_Acc=[]\n",
        "  val_Loss=[]\n",
        "  val_Acc=[]\n",
        "  for e in range(30):\n",
        "    \n",
        "    model.train()\n",
        "    train_accuracy=0.0\n",
        "    train_loss=0.0\n",
        "    for i,(images,labels) in enumerate(train_loader):\n",
        "      \n",
        "      \n",
        "      images=images.to(device)\n",
        "      labels=labels.to(device)\n",
        "\n",
        "      optimizer.zero_grad()\n",
        "      outputs=model(images)\n",
        "      \n",
        "      loss=loss_fun(outputs,labels)\n",
        "      \n",
        "    #print(loss)\n",
        "      loss.backward()\n",
        "      optimizer.step()\n",
        "      train_loss+=(loss.item())/batch_size\n",
        "    #print(loss.cpu().data)\n",
        "      # train_loss+=loss.cpu().data*images.size(0)\n",
        "      scores,prediction=torch.max(outputs.data,1)\n",
        "\n",
        "      train_accuracy+=int(torch.sum(prediction==labels.data))\n",
        "    train_accuracy=(train_accuracy/(train_step*batch_size))*100\n",
        "    train_Acc.append(train_accuracy)\n",
        "    train_loss=(train_loss/train_step)*100\n",
        "    train_Loss.append(train_loss)\n",
        "\n",
        "    ##evalution on testing data\n",
        "    model.eval()\n",
        "    with torch.no_grad():\n",
        "      val_accuracy=0.0\n",
        "      val_loss=0\n",
        "      for i,(images,labels) in enumerate(valid_loader):\n",
        "        # if torch.cuda.is_available():\n",
        "        images=images.to(device)\n",
        "        labels=labels.to(device)\n",
        "        \n",
        "        outputs=model(images)\n",
        "        loss=loss_fun(outputs,labels)\n",
        "        val_loss+=(loss.item())/batch_size\n",
        "        scores,prediction=torch.max(outputs.data,1)\n",
        "        val_accuracy+=int(torch.sum(prediction==labels.data))\n",
        "    \n",
        "      val_accuracy=(val_accuracy/(val_step*batch_size))*100\n",
        "      val_Acc.append(val_accuracy)\n",
        "      val_loss=(val_loss/val_step)*100\n",
        "      val_Loss.append(val_loss)\n",
        "    \n",
        "    wandb.log({#'epoch':e,\n",
        "               'train_acc':train_accuracy,\n",
        "               'train_loss':train_loss,\n",
        "               'val_acc': val_accuracy,\n",
        "               'val_loss':val_loss       \n",
        "              })\n",
        "\n",
        "  ### print and ploting loss and accuracy here\n",
        "  print(\"max__train_accuracy:\",np.max(train_Acc),)\n",
        "  print(\"max__validation_accuracy:\",np.max(val_Acc))\n",
        "  print(\"min_train_loss:\",np.min(train_Loss))\n",
        "  print(\"min_validation_loss:\",np.min(val_Loss))\n",
        "  plt.plot(train_Loss, 'r', label=\"Training loss\")\n",
        "  plt.plot(val_Loss, 'lime', label=\"Validation loss\")\n",
        "  plt.title(\"Training and Validation Loss vs Number of Epochs\", size=15)\n",
        "  plt.xlabel(\"Number of epochs\", size=15)\n",
        "  plt.ylabel(\"Loss\", size=15)\n",
        "  plt.legend()\n",
        "  plt.show()\n",
        "\n",
        "  \n",
        "  plt.plot(train_Acc, 'r', label=\"Training Accuracy\")\n",
        "  plt.plot(val_Acc ,'lime', label=\"Validation Accuracy\")\n",
        "  plt.title(\"Training and Validation Accuracy vs Number of Epochs\", size=15)\n",
        "  plt.xlabel(\"Number of epochs\", size=15)\n",
        "  plt.ylabel(\"Accuracy\", size=15)\n",
        "  plt.legend()\n",
        "  plt.show()   \n",
        "  wandb.run.name = run_name\n",
        "  wandb.run.save()\n",
        "  wandb.run.finish()\n",
        "    # print('Epoch:'+str(epoch)+'Train Loss:'+str(int(train_loss))+'Train accuracy'+str(train_accuracy)+'Test accuracy'+str(test_accuracy))\n",
        "  \n",
        "    # if test_accuracy>best_accuracy:\n",
        "    #   torch.save(model.state_dict(),'best_checkpoint.model')\n",
        "    #   best_accuracy=test_accuracy\n",
        "\n",
        "\n",
        "sweep_id=\"7z63jlgr\"\n",
        "wandb.agent(sweep_id,function=train,entity=\"amanvb-9213\",project='DL-assignment2')\n",
        " \n",
        "\n",
        "\n",
        "\n",
        "\n",
        "\n",
        "  \n",
        "\n",
        " \n"
      ],
      "metadata": {
        "id": "7WmlkZS5ZW2v",
        "colab": {
          "base_uri": "https://localhost:8080/",
          "height": 1000,
          "referenced_widgets": [
            "7ab85fc2a1004c0cbc59f15b8da5451e",
            "c5cb22f9737b4dc4a35018720acdcfb2",
            "3b69ac0219ec4f39bb8b44b56edb57d9",
            "8a5d4f13ce7b4e1a855f61686138c3a1",
            "b2a0c7096f734f6d88c99233bc31b40d",
            "860518ce1fa843f0adf51d1c8bd541c6",
            "857fca5910b24f8f81d9ec02251defbb",
            "3d8276bc0c7c48ee805430a4f7414ba7"
          ]
        },
        "outputId": "0593e44d-d538-47d6-f77d-3675ead99e11"
      },
      "execution_count": null,
      "outputs": [
        {
          "output_type": "stream",
          "name": "stdout",
          "text": [
            "Create sweep with ID: 7z63jlgr\n",
            "Sweep URL: https://wandb.ai/amanvb-9213/DL-assignment2/sweeps/7z63jlgr\n"
          ]
        },
        {
          "output_type": "stream",
          "name": "stderr",
          "text": [
            "\u001b[34m\u001b[1mwandb\u001b[0m: Agent Starting Run: u4t2erue with config:\n",
            "\u001b[34m\u001b[1mwandb\u001b[0m: \tactivation: Silu\n",
            "\u001b[34m\u001b[1mwandb\u001b[0m: \tbatch_norm: No\n",
            "\u001b[34m\u001b[1mwandb\u001b[0m: \tdrop_out: 0.3\n",
            "\u001b[34m\u001b[1mwandb\u001b[0m: \tfilter_n: 64\n",
            "\u001b[34m\u001b[1mwandb\u001b[0m: \tfilter_org: 1\n",
            "\u001b[34m\u001b[1mwandb\u001b[0m: Currently logged in as: \u001b[33mamanvb-9213\u001b[0m. Use \u001b[1m`wandb login --relogin`\u001b[0m to force relogin\n"
          ]
        },
        {
          "output_type": "display_data",
          "data": {
            "text/plain": [
              "<IPython.core.display.HTML object>"
            ],
            "text/html": [
              "Tracking run with wandb version 0.14.2"
            ]
          },
          "metadata": {}
        },
        {
          "output_type": "display_data",
          "data": {
            "text/plain": [
              "<IPython.core.display.HTML object>"
            ],
            "text/html": [
              "Run data is saved locally in <code>/content/wandb/run-20230410_071152-u4t2erue</code>"
            ]
          },
          "metadata": {}
        },
        {
          "output_type": "display_data",
          "data": {
            "text/plain": [
              "<IPython.core.display.HTML object>"
            ],
            "text/html": [
              "Syncing run <strong><a href='https://wandb.ai/amanvb-9213/DL-assignment2/runs/u4t2erue' target=\"_blank\">solar-sweep-1</a></strong> to <a href='https://wandb.ai/amanvb-9213/DL-assignment2' target=\"_blank\">Weights & Biases</a> (<a href='https://wandb.me/run' target=\"_blank\">docs</a>)<br/>Sweep page: <a href='https://wandb.ai/amanvb-9213/DL-assignment2/sweeps/7z63jlgr' target=\"_blank\">https://wandb.ai/amanvb-9213/DL-assignment2/sweeps/7z63jlgr</a>"
            ]
          },
          "metadata": {}
        },
        {
          "output_type": "display_data",
          "data": {
            "text/plain": [
              "<IPython.core.display.HTML object>"
            ],
            "text/html": [
              " View project at <a href='https://wandb.ai/amanvb-9213/DL-assignment2' target=\"_blank\">https://wandb.ai/amanvb-9213/DL-assignment2</a>"
            ]
          },
          "metadata": {}
        },
        {
          "output_type": "display_data",
          "data": {
            "text/plain": [
              "<IPython.core.display.HTML object>"
            ],
            "text/html": [
              " View sweep at <a href='https://wandb.ai/amanvb-9213/DL-assignment2/sweeps/7z63jlgr' target=\"_blank\">https://wandb.ai/amanvb-9213/DL-assignment2/sweeps/7z63jlgr</a>"
            ]
          },
          "metadata": {}
        },
        {
          "output_type": "display_data",
          "data": {
            "text/plain": [
              "<IPython.core.display.HTML object>"
            ],
            "text/html": [
              " View run at <a href='https://wandb.ai/amanvb-9213/DL-assignment2/runs/u4t2erue' target=\"_blank\">https://wandb.ai/amanvb-9213/DL-assignment2/runs/u4t2erue</a>"
            ]
          },
          "metadata": {}
        },
        {
          "output_type": "stream",
          "name": "stdout",
          "text": [
            "run_name: Fn_64_Fo_1_acf_Silu_bn_No_Do_0.3\n",
            "max__train_accuracy: 30.567956349206348\n",
            "max__validation_accuracy: 28.759765625\n",
            "min_train_loss: 1.6724701320368147\n",
            "min_validation_loss: 1.686031254939735\n"
          ]
        },
        {
          "output_type": "display_data",
          "data": {
            "text/plain": [
              "<Figure size 640x480 with 1 Axes>"
            ],
            "image/png": "[encoded data removed]"
          },
          "metadata": {}
        },
        {
          "output_type": "display_data",
          "data": {
            "text/plain": [
              "<Figure size 640x480 with 1 Axes>"
            ],
            "image/png": "[encoded data removed]"
          },
          "metadata": {}
        },
        {
          "output_type": "stream",
          "name": "stderr",
          "text": [
            "\u001b[34m\u001b[1mwandb\u001b[0m: \u001b[33mWARNING\u001b[0m Calling wandb.run.save without any arguments is deprecated.Changes to attributes are automatically persisted.\n"
          ]
        },
        {
          "output_type": "display_data",
          "data": {
            "text/plain": [
              "<IPython.core.display.HTML object>"
            ],
            "text/html": [
              "Waiting for W&B process to finish... <strong style=\"color:green\">(success).</strong>"
            ]
          },
          "metadata": {}
        },
        {
          "output_type": "display_data",
          "data": {
            "text/plain": [
              "<IPython.core.display.HTML object>"
            ],
            "text/html": [
              "<style>\n",
              "    table.wandb td:nth-child(1) { padding: 0 10px; text-align: left ; width: auto;} td:nth-child(2) {text-align: left ; width: 100%}\n",
              "    .wandb-row { display: flex; flex-direction: row; flex-wrap: wrap; justify-content: flex-start; width: 100% }\n",
              "    .wandb-col { display: flex; flex-direction: column; flex-basis: 100%; flex: 1; padding: 10px; }\n",
              "    </style>\n",
              "<div class=\"wandb-row\"><div class=\"wandb-col\"><h3>Run history:</h3><br/><table class=\"wandb\"><tr><td>train_acc</td><td>▁▃▃▄▄▅▅▅▅▆▆▆▆▆▆▇▆▇▆▇▇▇▇▇▇▇▇███</td></tr><tr><td>train_loss</td><td>█▇▆▅▅▅▅▄▅▄▄▄▃▃▃▃▃▃▃▃▂▂▂▂▂▂▂▁▁▁</td></tr><tr><td>val_acc</td><td>▁▃▃▄▄▄▅▅▅▆▅▅▆▇▆▆▆▇▇▆▇▇▇▇█▇████</td></tr><tr><td>val_loss</td><td>█▆▆▅▅▆▅▄▄▃▄▄▃▃▃▃▃▃▂▃▂▂▂▂▁▂▁▁▁▁</td></tr></table><br/></div><div class=\"wandb-col\"><h3>Run summary:</h3><br/><table class=\"wandb\"><tr><td>train_acc</td><td>30.56796</td></tr><tr><td>train_loss</td><td>1.67247</td></tr><tr><td>val_acc</td><td>27.7832</td></tr><tr><td>val_loss</td><td>1.69173</td></tr></table><br/></div></div>"
            ]
          },
          "metadata": {}
        },
        {
          "output_type": "display_data",
          "data": {
            "text/plain": [
              "<IPython.core.display.HTML object>"
            ],
            "text/html": [
              " View run <strong style=\"color:#cdcd00\">solar-sweep-1</strong> at: <a href='https://wandb.ai/amanvb-9213/DL-assignment2/runs/u4t2erue' target=\"_blank\">https://wandb.ai/amanvb-9213/DL-assignment2/runs/u4t2erue</a><br/>Synced 5 W&B file(s), 0 media file(s), 0 artifact file(s) and 0 other file(s)"
            ]
          },
          "metadata": {}
        },
        {
          "output_type": "display_data",
          "data": {
            "text/plain": [
              "<IPython.core.display.HTML object>"
            ],
            "text/html": [
              "Find logs at: <code>./wandb/run-20230410_071152-u4t2erue/logs</code>"
            ]
          },
          "metadata": {}
        },
        {
          "output_type": "stream",
          "name": "stderr",
          "text": [
            "\u001b[34m\u001b[1mwandb\u001b[0m: Sweep Agent: Waiting for job.\n",
            "\u001b[34m\u001b[1mwandb\u001b[0m: Job received.\n",
            "\u001b[34m\u001b[1mwandb\u001b[0m: Agent Starting Run: 7s7d4nvx with config:\n",
            "\u001b[34m\u001b[1mwandb\u001b[0m: \tactivation: Mish\n",
            "\u001b[34m\u001b[1mwandb\u001b[0m: \tbatch_norm: No\n",
            "\u001b[34m\u001b[1mwandb\u001b[0m: \tdrop_out: 0.2\n",
            "\u001b[34m\u001b[1mwandb\u001b[0m: \tfilter_n: 64\n",
            "\u001b[34m\u001b[1mwandb\u001b[0m: \tfilter_org: 2\n"
          ]
        },
        {
          "output_type": "display_data",
          "data": {
            "text/plain": [
              "<IPython.core.display.HTML object>"
            ],
            "text/html": [
              "Tracking run with wandb version 0.14.2"
            ]
          },
          "metadata": {}
        },
        {
          "output_type": "display_data",
          "data": {
            "text/plain": [
              "<IPython.core.display.HTML object>"
            ],
            "text/html": [
              "Run data is saved locally in <code>/content/wandb/run-20230410_083644-7s7d4nvx</code>"
            ]
          },
          "metadata": {}
        },
        {
          "output_type": "display_data",
          "data": {
            "text/plain": [
              "<IPython.core.display.HTML object>"
            ],
            "text/html": [
              "Syncing run <strong><a href='https://wandb.ai/amanvb-9213/DL-assignment2/runs/7s7d4nvx' target=\"_blank\">crimson-sweep-6</a></strong> to <a href='https://wandb.ai/amanvb-9213/DL-assignment2' target=\"_blank\">Weights & Biases</a> (<a href='https://wandb.me/run' target=\"_blank\">docs</a>)<br/>Sweep page: <a href='https://wandb.ai/amanvb-9213/DL-assignment2/sweeps/7z63jlgr' target=\"_blank\">https://wandb.ai/amanvb-9213/DL-assignment2/sweeps/7z63jlgr</a>"
            ]
          },
          "metadata": {}
        },
        {
          "output_type": "display_data",
          "data": {
            "text/plain": [
              "<IPython.core.display.HTML object>"
            ],
            "text/html": [
              " View project at <a href='https://wandb.ai/amanvb-9213/DL-assignment2' target=\"_blank\">https://wandb.ai/amanvb-9213/DL-assignment2</a>"
            ]
          },
          "metadata": {}
        },
        {
          "output_type": "display_data",
          "data": {
            "text/plain": [
              "<IPython.core.display.HTML object>"
            ],
            "text/html": [
              " View sweep at <a href='https://wandb.ai/amanvb-9213/DL-assignment2/sweeps/7z63jlgr' target=\"_blank\">https://wandb.ai/amanvb-9213/DL-assignment2/sweeps/7z63jlgr</a>"
            ]
          },
          "metadata": {}
        },
        {
          "output_type": "display_data",
          "data": {
            "text/plain": [
              "<IPython.core.display.HTML object>"
            ],
            "text/html": [
              " View run at <a href='https://wandb.ai/amanvb-9213/DL-assignment2/runs/7s7d4nvx' target=\"_blank\">https://wandb.ai/amanvb-9213/DL-assignment2/runs/7s7d4nvx</a>"
            ]
          },
          "metadata": {}
        },
        {
          "output_type": "stream",
          "name": "stdout",
          "text": [
            "run_name: Fn_64_Fo_2_acf_Mish_bn_No_Do_0.2\n",
            "max__train_accuracy: 19.655257936507937\n",
            "max__validation_accuracy: 19.82421875\n",
            "min_train_loss: 1.7568379670145022\n",
            "min_validation_loss: 1.7536805011332035\n"
          ]
        },
        {
          "output_type": "display_data",
          "data": {
            "text/plain": [
              "<Figure size 640x480 with 1 Axes>"
            ],
            "image/png": "[encoded data removed]"
          },
          "metadata": {}
        },
        {
          "output_type": "display_data",
          "data": {
            "text/plain": [
              "<Figure size 640x480 with 1 Axes>"
            ],
            "image/png": "[encoded data removed]"
          },
          "metadata": {}
        },
        {
          "output_type": "display_data",
          "data": {
            "text/plain": [
              "<IPython.core.display.HTML object>"
            ],
            "text/html": [
              "Waiting for W&B process to finish... <strong style=\"color:green\">(success).</strong>"
            ]
          },
          "metadata": {}
        },
        {
          "output_type": "display_data",
          "data": {
            "text/plain": [
              "VBox(children=(Label(value='0.001 MB of 0.001 MB uploaded (0.000 MB deduped)\\r'), FloatProgress(value=1.0, max…"
            ],
            "application/vnd.jupyter.widget-view+json": {
              "version_major": 2,
              "version_minor": 0,
              "model_id": "7ab85fc2a1004c0cbc59f15b8da5451e"
            }
          },
          "metadata": {}
        },
        {
          "output_type": "display_data",
          "data": {
            "text/plain": [
              "<IPython.core.display.HTML object>"
            ],
            "text/html": [
              "<style>\n",
              "    table.wandb td:nth-child(1) { padding: 0 10px; text-align: left ; width: auto;} td:nth-child(2) {text-align: left ; width: 100%}\n",
              "    .wandb-row { display: flex; flex-direction: row; flex-wrap: wrap; justify-content: flex-start; width: 100% }\n",
              "    .wandb-col { display: flex; flex-direction: column; flex-basis: 100%; flex: 1; padding: 10px; }\n",
              "    </style>\n",
              "<div class=\"wandb-row\"><div class=\"wandb-col\"><h3>Run history:</h3><br/><table class=\"wandb\"><tr><td>train_acc</td><td>▄▆▇█▇▁▁▁▁▁▁▁▁▁▁▁▁▁▁▁▁▁▁▁▁▁▁▁▁▁</td></tr><tr><td>train_loss</td><td>▃▂▂▁▃█████████████████████████</td></tr><tr><td>val_acc</td><td>▅▇▇█▁▁▁▁▁▁▁▁▁▁▁▁▁▁▁▁▁▁▁▁▁▁▁▁▁▁</td></tr><tr><td>val_loss</td><td>▃▁▂▁██████████████████████████</td></tr></table><br/></div><div class=\"wandb-col\"><h3>Run summary:</h3><br/><table class=\"wandb\"><tr><td>train_acc</td><td>10.08185</td></tr><tr><td>train_loss</td><td>1.84333</td></tr><tr><td>val_acc</td><td>9.13086</td></tr><tr><td>val_loss</td><td>1.84955</td></tr></table><br/></div></div>"
            ]
          },
          "metadata": {}
        },
        {
          "output_type": "display_data",
          "data": {
            "text/plain": [
              "<IPython.core.display.HTML object>"
            ],
            "text/html": [
              " View run <strong style=\"color:#cdcd00\">crimson-sweep-6</strong> at: <a href='https://wandb.ai/amanvb-9213/DL-assignment2/runs/7s7d4nvx' target=\"_blank\">https://wandb.ai/amanvb-9213/DL-assignment2/runs/7s7d4nvx</a><br/>Synced 5 W&B file(s), 0 media file(s), 0 artifact file(s) and 0 other file(s)"
            ]
          },
          "metadata": {}
        },
        {
          "output_type": "display_data",
          "data": {
            "text/plain": [
              "<IPython.core.display.HTML object>"
            ],
            "text/html": [
              "Find logs at: <code>./wandb/run-20230410_083644-7s7d4nvx/logs</code>"
            ]
          },
          "metadata": {}
        },
        {
          "output_type": "stream",
          "name": "stderr",
          "text": [
            "\u001b[34m\u001b[1mwandb\u001b[0m: Agent Starting Run: i3u5bmx8 with config:\n",
            "\u001b[34m\u001b[1mwandb\u001b[0m: \tactivation: Gelu\n",
            "\u001b[34m\u001b[1mwandb\u001b[0m: \tbatch_norm: No\n",
            "\u001b[34m\u001b[1mwandb\u001b[0m: \tdrop_out: 0.3\n",
            "\u001b[34m\u001b[1mwandb\u001b[0m: \tfilter_n: 32\n",
            "\u001b[34m\u001b[1mwandb\u001b[0m: \tfilter_org: 1\n"
          ]
        },
        {
          "output_type": "display_data",
          "data": {
            "text/plain": [
              "<IPython.core.display.HTML object>"
            ],
            "text/html": [
              "Tracking run with wandb version 0.14.2"
            ]
          },
          "metadata": {}
        },
        {
          "output_type": "display_data",
          "data": {
            "text/plain": [
              "<IPython.core.display.HTML object>"
            ],
            "text/html": [
              "Run data is saved locally in <code>/content/wandb/run-20230410_100544-i3u5bmx8</code>"
            ]
          },
          "metadata": {}
        },
        {
          "output_type": "display_data",
          "data": {
            "text/plain": [
              "<IPython.core.display.HTML object>"
            ],
            "text/html": [
              "Syncing run <strong><a href='https://wandb.ai/amanvb-9213/DL-assignment2/runs/i3u5bmx8' target=\"_blank\">scarlet-sweep-11</a></strong> to <a href='https://wandb.ai/amanvb-9213/DL-assignment2' target=\"_blank\">Weights & Biases</a> (<a href='https://wandb.me/run' target=\"_blank\">docs</a>)<br/>Sweep page: <a href='https://wandb.ai/amanvb-9213/DL-assignment2/sweeps/7z63jlgr' target=\"_blank\">https://wandb.ai/amanvb-9213/DL-assignment2/sweeps/7z63jlgr</a>"
            ]
          },
          "metadata": {}
        },
        {
          "output_type": "display_data",
          "data": {
            "text/plain": [
              "<IPython.core.display.HTML object>"
            ],
            "text/html": [
              " View project at <a href='https://wandb.ai/amanvb-9213/DL-assignment2' target=\"_blank\">https://wandb.ai/amanvb-9213/DL-assignment2</a>"
            ]
          },
          "metadata": {}
        },
        {
          "output_type": "display_data",
          "data": {
            "text/plain": [
              "<IPython.core.display.HTML object>"
            ],
            "text/html": [
              " View sweep at <a href='https://wandb.ai/amanvb-9213/DL-assignment2/sweeps/7z63jlgr' target=\"_blank\">https://wandb.ai/amanvb-9213/DL-assignment2/sweeps/7z63jlgr</a>"
            ]
          },
          "metadata": {}
        },
        {
          "output_type": "display_data",
          "data": {
            "text/plain": [
              "<IPython.core.display.HTML object>"
            ],
            "text/html": [
              " View run at <a href='https://wandb.ai/amanvb-9213/DL-assignment2/runs/i3u5bmx8' target=\"_blank\">https://wandb.ai/amanvb-9213/DL-assignment2/runs/i3u5bmx8</a>"
            ]
          },
          "metadata": {}
        },
        {
          "output_type": "stream",
          "name": "stdout",
          "text": [
            "run_name: Fn_32_Fo_1_acf_Gelu_bn_No_Do_0.3\n"
          ]
        }
      ]
    },
    {
      "cell_type": "code",
      "source": [],
      "metadata": {
        "id": "PgsNvPdN3doC"
      },
      "execution_count": null,
      "outputs": []
    }
  ]
}