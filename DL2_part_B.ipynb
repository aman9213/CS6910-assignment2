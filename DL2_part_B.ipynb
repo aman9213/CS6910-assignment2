{
  "nbformat": 4,
  "nbformat_minor": 0,
  "metadata": {
    "colab": {
      "provenance": []
    },
    "kernelspec": {
      "name": "python3",
      "display_name": "Python 3"
    },
    "language_info": {
      "name": "python"
    },
    "gpuClass": "standard",
    "accelerator": "GPU"
  },
  "cells": [
    {
      "cell_type": "code",
      "source": [
        "!pip install --upgrade torch torchvision"
      ],
      "metadata": {
        "colab": {
          "base_uri": "https://localhost:8080/"
        },
        "id": "uYA0xKWzZOOp",
        "outputId": "d24051eb-8bd9-4c6e-e3e5-ef9f5ae6af39"
      },
      "execution_count": 32,
      "outputs": [
        {
          "output_type": "stream",
          "name": "stdout",
          "text": [
            "Looking in indexes: https://pypi.org/simple, https://us-python.pkg.dev/colab-wheels/public/simple/\n",
            "Requirement already satisfied: torch in /usr/local/lib/python3.9/dist-packages (2.0.0+cu118)\n",
            "Requirement already satisfied: torchvision in /usr/local/lib/python3.9/dist-packages (0.15.1+cu118)\n",
            "Requirement already satisfied: sympy in /usr/local/lib/python3.9/dist-packages (from torch) (1.11.1)\n",
            "Requirement already satisfied: filelock in /usr/local/lib/python3.9/dist-packages (from torch) (3.10.7)\n",
            "Requirement already satisfied: typing-extensions in /usr/local/lib/python3.9/dist-packages (from torch) (4.5.0)\n",
            "Requirement already satisfied: networkx in /usr/local/lib/python3.9/dist-packages (from torch) (3.0)\n",
            "Requirement already satisfied: triton==2.0.0 in /usr/local/lib/python3.9/dist-packages (from torch) (2.0.0)\n",
            "Requirement already satisfied: jinja2 in /usr/local/lib/python3.9/dist-packages (from torch) (3.1.2)\n",
            "Requirement already satisfied: cmake in /usr/local/lib/python3.9/dist-packages (from triton==2.0.0->torch) (3.25.2)\n",
            "Requirement already satisfied: lit in /usr/local/lib/python3.9/dist-packages (from triton==2.0.0->torch) (16.0.0)\n",
            "Requirement already satisfied: numpy in /usr/local/lib/python3.9/dist-packages (from torchvision) (1.22.4)\n",
            "Requirement already satisfied: requests in /usr/local/lib/python3.9/dist-packages (from torchvision) (2.27.1)\n",
            "Requirement already satisfied: pillow!=8.3.*,>=5.3.0 in /usr/local/lib/python3.9/dist-packages (from torchvision) (8.4.0)\n",
            "Requirement already satisfied: MarkupSafe>=2.0 in /usr/local/lib/python3.9/dist-packages (from jinja2->torch) (2.1.2)\n",
            "Requirement already satisfied: urllib3<1.27,>=1.21.1 in /usr/local/lib/python3.9/dist-packages (from requests->torchvision) (1.26.15)\n",
            "Requirement already satisfied: idna<4,>=2.5 in /usr/local/lib/python3.9/dist-packages (from requests->torchvision) (3.4)\n",
            "Requirement already satisfied: certifi>=2017.4.17 in /usr/local/lib/python3.9/dist-packages (from requests->torchvision) (2022.12.7)\n",
            "Requirement already satisfied: charset-normalizer~=2.0.0 in /usr/local/lib/python3.9/dist-packages (from requests->torchvision) (2.0.12)\n",
            "Requirement already satisfied: mpmath>=0.19 in /usr/local/lib/python3.9/dist-packages (from sympy->torch) (1.3.0)\n"
          ]
        }
      ]
    },
    {
      "cell_type": "markdown",
      "source": [
        "### Importing required libraries"
      ],
      "metadata": {
        "id": "1vCsk3J1ZtTt"
      }
    },
    {
      "cell_type": "code",
      "source": [],
      "metadata": {
        "id": "OolcawqAZsoB"
      },
      "execution_count": null,
      "outputs": []
    },
    {
      "cell_type": "code",
      "execution_count": 33,
      "metadata": {
        "id": "p7B30lT9oy4v"
      },
      "outputs": [],
      "source": [
        "import torch\n",
        "import torch.nn as nn\n",
        "import torch.nn.functional as F\n",
        "import torchvision\n",
        "from torchvision.transforms import transforms\n",
        "from torch.utils.data import DataLoader \n",
        "import pathlib\n",
        "import glob\n",
        "import torch.optim as optim\n",
        "from torch.optim import lr_scheduler\n",
        "from torch.autograd import Variable\n",
        "import matplotlib.pyplot as plt\n",
        "from torch import flatten\n",
        "import torchvision.models as models\n",
        "import time\n",
        "import copy"
      ]
    },
    {
      "cell_type": "code",
      "source": [
        "from google.colab import files"
      ],
      "metadata": {
        "id": "icGQeoxf4g6V"
      },
      "execution_count": 21,
      "outputs": []
    },
    {
      "cell_type": "markdown",
      "source": [
        "### Mounting Drive in Google colab"
      ],
      "metadata": {
        "id": "0aNdmmQrZ47g"
      }
    },
    {
      "cell_type": "code",
      "source": [
        "from google.colab import drive\n",
        "drive.mount('/content/drive')\n"
      ],
      "metadata": {
        "colab": {
          "base_uri": "https://localhost:8080/"
        },
        "id": "V4Hm9beiQDe8",
        "outputId": "12984a99-6ed1-46df-a491-237e0ab9a1a7"
      },
      "execution_count": 3,
      "outputs": [
        {
          "output_type": "stream",
          "name": "stdout",
          "text": [
            "Mounted at /content/drive\n"
          ]
        }
      ]
    },
    {
      "cell_type": "markdown",
      "source": [
        "### Extracting zip file of Naturalist dataset"
      ],
      "metadata": {
        "id": "UGW7SNhMZ9oI"
      }
    },
    {
      "cell_type": "code",
      "source": [
        "import zipfile\n",
        "import os\n",
        "\n",
        "zip_ref = zipfile.ZipFile('/content/drive/MyDrive/nature_12K.zip', 'r') #Opens the zip file in read mode\n",
        "zip_ref.extractall('/nature') #Extracts the files into the /nature folder\n",
        "zip_ref.close()"
      ],
      "metadata": {
        "id": "o9UJCvGIQE7O"
      },
      "execution_count": 4,
      "outputs": []
    },
    {
      "cell_type": "markdown",
      "source": [
        "### launching Cuda"
      ],
      "metadata": {
        "id": "NTJKHu-eaL-e"
      }
    },
    {
      "cell_type": "code",
      "source": [
        "device=torch.device('cuda' if torch.cuda.is_available() else 'cpu')\n",
        "print(device)"
      ],
      "metadata": {
        "colab": {
          "base_uri": "https://localhost:8080/"
        },
        "id": "Q14iZcMhQE5D",
        "outputId": "e5c652f6-ae77-4e82-f130-a9bb154264cf"
      },
      "execution_count": 5,
      "outputs": [
        {
          "output_type": "stream",
          "name": "stdout",
          "text": [
            "cuda\n"
          ]
        }
      ]
    },
    {
      "cell_type": "markdown",
      "source": [],
      "metadata": {
        "id": "Y2YiQuqsabuw"
      }
    },
    {
      "cell_type": "code",
      "source": [
        "### Defining some variabels\n",
        "data_dir='/nature/inaturalist_12K'\n",
        "model_name=\"ResNet50\"\n",
        "batch_size=64\n",
        "num_classes=10\n",
        "feature_extract=True\n",
        "num_epoch=25\n",
        "input_size=224"
      ],
      "metadata": {
        "id": "3AB0gNKuQE1d"
      },
      "execution_count": 25,
      "outputs": []
    },
    {
      "cell_type": "markdown",
      "source": [
        "### **defining transformation for augmenting the image**"
      ],
      "metadata": {
        "id": "QTMecRM2bcR-"
      }
    },
    {
      "cell_type": "code",
      "source": [
        "train_transforms = transforms.Compose([\n",
        "                                       transforms.RandomResizedCrop(input_size),\n",
        "                                       transforms.RandomHorizontalFlip(),\n",
        "                                      #  transforms.RandomAffine(degrees=0,scale=(0.3,1)),\n",
        "                                       transforms.ToTensor(),\n",
        "                                       \n",
        "                                       transforms.Normalize([0.485, 0.456, 0.406], [0.229, 0.224, 0.225])])\n",
        "\n",
        "test_transforms = transforms.Compose([\n",
        "                                      transforms.RandomResizedCrop(input_size),\n",
        "                                      transforms.CenterCrop(input_size),\n",
        "                                      transforms.ToTensor(),\n",
        "                                      transforms.Normalize([0.485, 0.456, 0.406], [0.229, 0.224, 0.225])])"
      ],
      "metadata": {
        "id": "52nTSKyEQw1w"
      },
      "execution_count": 7,
      "outputs": []
    },
    {
      "cell_type": "markdown",
      "source": [
        "### **Loading the data through data loader**"
      ],
      "metadata": {
        "id": "Qf0Joyqob4-P"
      }
    },
    {
      "cell_type": "code",
      "source": [
        "train_data = torchvision.datasets.ImageFolder(data_dir + '/train', transform=train_transforms)\n",
        "test_data = torchvision.datasets.ImageFolder(data_dir + '/val', transform=test_transforms)\n",
        "train_loader = torch.utils.data.DataLoader(train_data, batch_size=batch_size,shuffle=True,\n",
        "    num_workers=2)\n",
        "test_loader = torch.utils.data.DataLoader(test_data, batch_size=batch_size,shuffle=True,num_workers=2)\n",
        "train_step=len(train_loader) ### this will return total data in train_sampler//batch_size(8000/128=63)\n",
        "val_step=len(test_loader)"
      ],
      "metadata": {
        "id": "VAn7eByFQwvm"
      },
      "execution_count": 9,
      "outputs": []
    },
    {
      "cell_type": "markdown",
      "source": [
        "### **Function for training the model with transfer learning on our Naturalist  dataset**"
      ],
      "metadata": {
        "id": "Gq2EgQC1cOum"
      }
    },
    {
      "cell_type": "code",
      "source": [
        "def train(model,loss,optimizer,scheduler,num_epoch):\n",
        "  ## model -->ResNet50 our pre-trained model\n",
        "  # loss-->Cross-entrophy loss\n",
        "  # optimizer->> SGD with momentum\n",
        "  # scheduler--> leraning rate scheduler\n",
        "  # num_epoch --> num of epoches\n",
        "\n",
        "  since=time.time() ## for tracking the time\n",
        "  model_wts=copy.deepcopy(model.state_dict())  ## here copying the weights of pre-trained model\n",
        "  best_accuracy=0\n",
        "  ##  list for storing loss and accuracy\n",
        "  train_Loss=[]\n",
        "  train_Acc=[]\n",
        "  val_Loss=[]\n",
        "  val_Acc=[]\n",
        "  for epoch in range(num_epoch):\n",
        "    \n",
        "    model.train()  ## for keeping model in training mode\n",
        "    train_accuracy=0.0\n",
        "    train_loss=0.0\n",
        "    for i,(images,labels) in enumerate(train_loader):\n",
        "      images=images.to(device)\n",
        "      labels=labels.to(device)\n",
        "      optimizer.zero_grad()\n",
        "      outputs=model(images)\n",
        "      loss=loss_fun(outputs,labels)\n",
        "      \n",
        "    #print(loss)\n",
        "      loss.backward()\n",
        "      optimizer.step()\n",
        "      train_loss+=(loss.item())/batch_size  \n",
        "      scores,prediction=torch.max(outputs.data,1)\n",
        "      train_accuracy+=int(torch.sum(prediction==labels.data))\n",
        "    scheduler.step()\n",
        "    train_accuracy=(train_accuracy/(train_step*batch_size))*100\n",
        "    train_Acc.append(train_accuracy)\n",
        "    train_loss=(train_loss/train_step)*100\n",
        "    train_Loss.append(train_loss)\n",
        "\n",
        "\n",
        "    model.eval()         ## for kepping model in evalution mode\n",
        "    with torch.no_grad():\n",
        "      val_accuracy=0.0\n",
        "      val_loss=0\n",
        "      for i,(images,labels) in enumerate(test_loader):\n",
        "        # if torch.cuda.is_available():\n",
        "        images=images.to(device)\n",
        "        labels=labels.to(device)\n",
        "        \n",
        "        outputs=model(images)\n",
        "        loss=loss_fun(outputs,labels)\n",
        "        val_loss+=(loss.item())/batch_size\n",
        "        scores,prediction=torch.max(outputs.data,1)\n",
        "        val_accuracy+=int(torch.sum(prediction==labels.data))\n",
        "    \n",
        "    val_accuracy=(val_accuracy/(val_step*batch_size))*100\n",
        "    val_Acc.append(val_accuracy)\n",
        "    val_loss=(val_loss/val_step)*100\n",
        "    val_Loss.append(val_loss)\n",
        "    print('Epoch:'+str(epoch)+' Train Loss:'+str(float(train_loss))+' Train accuracy'+str(train_accuracy)+' val_accuracy'+str(val_accuracy))\n",
        "  \n",
        "    if val_accuracy>best_accuracy:\n",
        "      # torch.save(model.state_dict(),'best_checkpoint.model')\n",
        "      best_accuracy=val_accuracy\n",
        "      model_wts=copy.deepcopy(model.state_dict())\n",
        "  plt.plot(train_Loss, 'r', label=\"Training loss\")\n",
        "  plt.plot(val_Loss, 'lime', label=\"Validation loss\")\n",
        "  plt.title(\"Training and Validation Loss vs Number of Epochs\", size=15)\n",
        "  plt.xlabel(\"Number of epochs\", size=15)\n",
        "  plt.ylabel(\"Loss\", size=15)\n",
        "  plt.legend()\n",
        "  plt.show()\n",
        "\n",
        "  plt.plot(train_Acc, 'r', label=\"Training Accuracy\")\n",
        "  plt.plot(val_Acc ,'lime', label=\"Validation Accuracy\")\n",
        "  plt.title(\"Training and Validation Accuracy vs Number of Epochs\", size=15)\n",
        "  plt.xlabel(\"Number of epochs\", size=15)\n",
        "  plt.ylabel(\"Accuracy\", size=15)\n",
        "  plt.legend()\n",
        "  plt.show()   \n",
        "\n",
        "  time_elapsed = time.time() - since\n",
        "  print(f'Training complete in {time_elapsed // 60:.0f}m {time_elapsed % 60:.0f}s')\n",
        "  print(f'Best val Acc: {best_accuracy:4f}')\n",
        "  model.load_state_dict(model_wts)\n",
        "  return model\n"
      ],
      "metadata": {
        "id": "QFXeTi5-VBDN"
      },
      "execution_count": 26,
      "outputs": []
    },
    {
      "cell_type": "code",
      "source": [
        "## Fintuning the convolution network"
      ],
      "metadata": {
        "id": "dZUWgJsuVBCY"
      },
      "execution_count": 11,
      "outputs": []
    },
    {
      "cell_type": "markdown",
      "source": [
        "### ***Fine-tuning the ResNet50 NN by redefing the last layer for 10 classes***\n",
        "\n"
      ],
      "metadata": {
        "id": "ucp61NtCekJ2"
      }
    },
    {
      "cell_type": "code",
      "source": [
        "model=models.resnet50(pretrained=True)\n",
        "model.fc.requires_grad=True\n",
        "model.fc=nn.Linear(model.fc.in_features,10)  ## redefining the last layers for 10 classes\n",
        "model=model.to(device)\n",
        "loss_fun=nn.CrossEntropyLoss()\n",
        "optimizer=torch.optim.SGD(model.fc.parameters(),lr=0.001,momentum=0.9)\n",
        "lr_scheduler = lr_scheduler.StepLR(optimizer, step_size=6, gamma=0.1)"
      ],
      "metadata": {
        "id": "wZKVWLygVBBg"
      },
      "execution_count": 34,
      "outputs": []
    },
    {
      "cell_type": "code",
      "source": [
        "print(model) # analyzing the model"
      ],
      "metadata": {
        "colab": {
          "base_uri": "https://localhost:8080/"
        },
        "id": "KqDESCBZXrd3",
        "outputId": "ffddbb55-6624-4332-e2d9-03bc225ce994"
      },
      "execution_count": 36,
      "outputs": [
        {
          "output_type": "stream",
          "name": "stdout",
          "text": [
            "ResNet(\n",
            "  (conv1): Conv2d(3, 64, kernel_size=(7, 7), stride=(2, 2), padding=(3, 3), bias=False)\n",
            "  (bn1): BatchNorm2d(64, eps=1e-05, momentum=0.1, affine=True, track_running_stats=True)\n",
            "  (relu): ReLU(inplace=True)\n",
            "  (maxpool): MaxPool2d(kernel_size=3, stride=2, padding=1, dilation=1, ceil_mode=False)\n",
            "  (layer1): Sequential(\n",
            "    (0): Bottleneck(\n",
            "      (conv1): Conv2d(64, 64, kernel_size=(1, 1), stride=(1, 1), bias=False)\n",
            "      (bn1): BatchNorm2d(64, eps=1e-05, momentum=0.1, affine=True, track_running_stats=True)\n",
            "      (conv2): Conv2d(64, 64, kernel_size=(3, 3), stride=(1, 1), padding=(1, 1), bias=False)\n",
            "      (bn2): BatchNorm2d(64, eps=1e-05, momentum=0.1, affine=True, track_running_stats=True)\n",
            "      (conv3): Conv2d(64, 256, kernel_size=(1, 1), stride=(1, 1), bias=False)\n",
            "      (bn3): BatchNorm2d(256, eps=1e-05, momentum=0.1, affine=True, track_running_stats=True)\n",
            "      (relu): ReLU(inplace=True)\n",
            "      (downsample): Sequential(\n",
            "        (0): Conv2d(64, 256, kernel_size=(1, 1), stride=(1, 1), bias=False)\n",
            "        (1): BatchNorm2d(256, eps=1e-05, momentum=0.1, affine=True, track_running_stats=True)\n",
            "      )\n",
            "    )\n",
            "    (1): Bottleneck(\n",
            "      (conv1): Conv2d(256, 64, kernel_size=(1, 1), stride=(1, 1), bias=False)\n",
            "      (bn1): BatchNorm2d(64, eps=1e-05, momentum=0.1, affine=True, track_running_stats=True)\n",
            "      (conv2): Conv2d(64, 64, kernel_size=(3, 3), stride=(1, 1), padding=(1, 1), bias=False)\n",
            "      (bn2): BatchNorm2d(64, eps=1e-05, momentum=0.1, affine=True, track_running_stats=True)\n",
            "      (conv3): Conv2d(64, 256, kernel_size=(1, 1), stride=(1, 1), bias=False)\n",
            "      (bn3): BatchNorm2d(256, eps=1e-05, momentum=0.1, affine=True, track_running_stats=True)\n",
            "      (relu): ReLU(inplace=True)\n",
            "    )\n",
            "    (2): Bottleneck(\n",
            "      (conv1): Conv2d(256, 64, kernel_size=(1, 1), stride=(1, 1), bias=False)\n",
            "      (bn1): BatchNorm2d(64, eps=1e-05, momentum=0.1, affine=True, track_running_stats=True)\n",
            "      (conv2): Conv2d(64, 64, kernel_size=(3, 3), stride=(1, 1), padding=(1, 1), bias=False)\n",
            "      (bn2): BatchNorm2d(64, eps=1e-05, momentum=0.1, affine=True, track_running_stats=True)\n",
            "      (conv3): Conv2d(64, 256, kernel_size=(1, 1), stride=(1, 1), bias=False)\n",
            "      (bn3): BatchNorm2d(256, eps=1e-05, momentum=0.1, affine=True, track_running_stats=True)\n",
            "      (relu): ReLU(inplace=True)\n",
            "    )\n",
            "  )\n",
            "  (layer2): Sequential(\n",
            "    (0): Bottleneck(\n",
            "      (conv1): Conv2d(256, 128, kernel_size=(1, 1), stride=(1, 1), bias=False)\n",
            "      (bn1): BatchNorm2d(128, eps=1e-05, momentum=0.1, affine=True, track_running_stats=True)\n",
            "      (conv2): Conv2d(128, 128, kernel_size=(3, 3), stride=(2, 2), padding=(1, 1), bias=False)\n",
            "      (bn2): BatchNorm2d(128, eps=1e-05, momentum=0.1, affine=True, track_running_stats=True)\n",
            "      (conv3): Conv2d(128, 512, kernel_size=(1, 1), stride=(1, 1), bias=False)\n",
            "      (bn3): BatchNorm2d(512, eps=1e-05, momentum=0.1, affine=True, track_running_stats=True)\n",
            "      (relu): ReLU(inplace=True)\n",
            "      (downsample): Sequential(\n",
            "        (0): Conv2d(256, 512, kernel_size=(1, 1), stride=(2, 2), bias=False)\n",
            "        (1): BatchNorm2d(512, eps=1e-05, momentum=0.1, affine=True, track_running_stats=True)\n",
            "      )\n",
            "    )\n",
            "    (1): Bottleneck(\n",
            "      (conv1): Conv2d(512, 128, kernel_size=(1, 1), stride=(1, 1), bias=False)\n",
            "      (bn1): BatchNorm2d(128, eps=1e-05, momentum=0.1, affine=True, track_running_stats=True)\n",
            "      (conv2): Conv2d(128, 128, kernel_size=(3, 3), stride=(1, 1), padding=(1, 1), bias=False)\n",
            "      (bn2): BatchNorm2d(128, eps=1e-05, momentum=0.1, affine=True, track_running_stats=True)\n",
            "      (conv3): Conv2d(128, 512, kernel_size=(1, 1), stride=(1, 1), bias=False)\n",
            "      (bn3): BatchNorm2d(512, eps=1e-05, momentum=0.1, affine=True, track_running_stats=True)\n",
            "      (relu): ReLU(inplace=True)\n",
            "    )\n",
            "    (2): Bottleneck(\n",
            "      (conv1): Conv2d(512, 128, kernel_size=(1, 1), stride=(1, 1), bias=False)\n",
            "      (bn1): BatchNorm2d(128, eps=1e-05, momentum=0.1, affine=True, track_running_stats=True)\n",
            "      (conv2): Conv2d(128, 128, kernel_size=(3, 3), stride=(1, 1), padding=(1, 1), bias=False)\n",
            "      (bn2): BatchNorm2d(128, eps=1e-05, momentum=0.1, affine=True, track_running_stats=True)\n",
            "      (conv3): Conv2d(128, 512, kernel_size=(1, 1), stride=(1, 1), bias=False)\n",
            "      (bn3): BatchNorm2d(512, eps=1e-05, momentum=0.1, affine=True, track_running_stats=True)\n",
            "      (relu): ReLU(inplace=True)\n",
            "    )\n",
            "    (3): Bottleneck(\n",
            "      (conv1): Conv2d(512, 128, kernel_size=(1, 1), stride=(1, 1), bias=False)\n",
            "      (bn1): BatchNorm2d(128, eps=1e-05, momentum=0.1, affine=True, track_running_stats=True)\n",
            "      (conv2): Conv2d(128, 128, kernel_size=(3, 3), stride=(1, 1), padding=(1, 1), bias=False)\n",
            "      (bn2): BatchNorm2d(128, eps=1e-05, momentum=0.1, affine=True, track_running_stats=True)\n",
            "      (conv3): Conv2d(128, 512, kernel_size=(1, 1), stride=(1, 1), bias=False)\n",
            "      (bn3): BatchNorm2d(512, eps=1e-05, momentum=0.1, affine=True, track_running_stats=True)\n",
            "      (relu): ReLU(inplace=True)\n",
            "    )\n",
            "  )\n",
            "  (layer3): Sequential(\n",
            "    (0): Bottleneck(\n",
            "      (conv1): Conv2d(512, 256, kernel_size=(1, 1), stride=(1, 1), bias=False)\n",
            "      (bn1): BatchNorm2d(256, eps=1e-05, momentum=0.1, affine=True, track_running_stats=True)\n",
            "      (conv2): Conv2d(256, 256, kernel_size=(3, 3), stride=(2, 2), padding=(1, 1), bias=False)\n",
            "      (bn2): BatchNorm2d(256, eps=1e-05, momentum=0.1, affine=True, track_running_stats=True)\n",
            "      (conv3): Conv2d(256, 1024, kernel_size=(1, 1), stride=(1, 1), bias=False)\n",
            "      (bn3): BatchNorm2d(1024, eps=1e-05, momentum=0.1, affine=True, track_running_stats=True)\n",
            "      (relu): ReLU(inplace=True)\n",
            "      (downsample): Sequential(\n",
            "        (0): Conv2d(512, 1024, kernel_size=(1, 1), stride=(2, 2), bias=False)\n",
            "        (1): BatchNorm2d(1024, eps=1e-05, momentum=0.1, affine=True, track_running_stats=True)\n",
            "      )\n",
            "    )\n",
            "    (1): Bottleneck(\n",
            "      (conv1): Conv2d(1024, 256, kernel_size=(1, 1), stride=(1, 1), bias=False)\n",
            "      (bn1): BatchNorm2d(256, eps=1e-05, momentum=0.1, affine=True, track_running_stats=True)\n",
            "      (conv2): Conv2d(256, 256, kernel_size=(3, 3), stride=(1, 1), padding=(1, 1), bias=False)\n",
            "      (bn2): BatchNorm2d(256, eps=1e-05, momentum=0.1, affine=True, track_running_stats=True)\n",
            "      (conv3): Conv2d(256, 1024, kernel_size=(1, 1), stride=(1, 1), bias=False)\n",
            "      (bn3): BatchNorm2d(1024, eps=1e-05, momentum=0.1, affine=True, track_running_stats=True)\n",
            "      (relu): ReLU(inplace=True)\n",
            "    )\n",
            "    (2): Bottleneck(\n",
            "      (conv1): Conv2d(1024, 256, kernel_size=(1, 1), stride=(1, 1), bias=False)\n",
            "      (bn1): BatchNorm2d(256, eps=1e-05, momentum=0.1, affine=True, track_running_stats=True)\n",
            "      (conv2): Conv2d(256, 256, kernel_size=(3, 3), stride=(1, 1), padding=(1, 1), bias=False)\n",
            "      (bn2): BatchNorm2d(256, eps=1e-05, momentum=0.1, affine=True, track_running_stats=True)\n",
            "      (conv3): Conv2d(256, 1024, kernel_size=(1, 1), stride=(1, 1), bias=False)\n",
            "      (bn3): BatchNorm2d(1024, eps=1e-05, momentum=0.1, affine=True, track_running_stats=True)\n",
            "      (relu): ReLU(inplace=True)\n",
            "    )\n",
            "    (3): Bottleneck(\n",
            "      (conv1): Conv2d(1024, 256, kernel_size=(1, 1), stride=(1, 1), bias=False)\n",
            "      (bn1): BatchNorm2d(256, eps=1e-05, momentum=0.1, affine=True, track_running_stats=True)\n",
            "      (conv2): Conv2d(256, 256, kernel_size=(3, 3), stride=(1, 1), padding=(1, 1), bias=False)\n",
            "      (bn2): BatchNorm2d(256, eps=1e-05, momentum=0.1, affine=True, track_running_stats=True)\n",
            "      (conv3): Conv2d(256, 1024, kernel_size=(1, 1), stride=(1, 1), bias=False)\n",
            "      (bn3): BatchNorm2d(1024, eps=1e-05, momentum=0.1, affine=True, track_running_stats=True)\n",
            "      (relu): ReLU(inplace=True)\n",
            "    )\n",
            "    (4): Bottleneck(\n",
            "      (conv1): Conv2d(1024, 256, kernel_size=(1, 1), stride=(1, 1), bias=False)\n",
            "      (bn1): BatchNorm2d(256, eps=1e-05, momentum=0.1, affine=True, track_running_stats=True)\n",
            "      (conv2): Conv2d(256, 256, kernel_size=(3, 3), stride=(1, 1), padding=(1, 1), bias=False)\n",
            "      (bn2): BatchNorm2d(256, eps=1e-05, momentum=0.1, affine=True, track_running_stats=True)\n",
            "      (conv3): Conv2d(256, 1024, kernel_size=(1, 1), stride=(1, 1), bias=False)\n",
            "      (bn3): BatchNorm2d(1024, eps=1e-05, momentum=0.1, affine=True, track_running_stats=True)\n",
            "      (relu): ReLU(inplace=True)\n",
            "    )\n",
            "    (5): Bottleneck(\n",
            "      (conv1): Conv2d(1024, 256, kernel_size=(1, 1), stride=(1, 1), bias=False)\n",
            "      (bn1): BatchNorm2d(256, eps=1e-05, momentum=0.1, affine=True, track_running_stats=True)\n",
            "      (conv2): Conv2d(256, 256, kernel_size=(3, 3), stride=(1, 1), padding=(1, 1), bias=False)\n",
            "      (bn2): BatchNorm2d(256, eps=1e-05, momentum=0.1, affine=True, track_running_stats=True)\n",
            "      (conv3): Conv2d(256, 1024, kernel_size=(1, 1), stride=(1, 1), bias=False)\n",
            "      (bn3): BatchNorm2d(1024, eps=1e-05, momentum=0.1, affine=True, track_running_stats=True)\n",
            "      (relu): ReLU(inplace=True)\n",
            "    )\n",
            "  )\n",
            "  (layer4): Sequential(\n",
            "    (0): Bottleneck(\n",
            "      (conv1): Conv2d(1024, 512, kernel_size=(1, 1), stride=(1, 1), bias=False)\n",
            "      (bn1): BatchNorm2d(512, eps=1e-05, momentum=0.1, affine=True, track_running_stats=True)\n",
            "      (conv2): Conv2d(512, 512, kernel_size=(3, 3), stride=(2, 2), padding=(1, 1), bias=False)\n",
            "      (bn2): BatchNorm2d(512, eps=1e-05, momentum=0.1, affine=True, track_running_stats=True)\n",
            "      (conv3): Conv2d(512, 2048, kernel_size=(1, 1), stride=(1, 1), bias=False)\n",
            "      (bn3): BatchNorm2d(2048, eps=1e-05, momentum=0.1, affine=True, track_running_stats=True)\n",
            "      (relu): ReLU(inplace=True)\n",
            "      (downsample): Sequential(\n",
            "        (0): Conv2d(1024, 2048, kernel_size=(1, 1), stride=(2, 2), bias=False)\n",
            "        (1): BatchNorm2d(2048, eps=1e-05, momentum=0.1, affine=True, track_running_stats=True)\n",
            "      )\n",
            "    )\n",
            "    (1): Bottleneck(\n",
            "      (conv1): Conv2d(2048, 512, kernel_size=(1, 1), stride=(1, 1), bias=False)\n",
            "      (bn1): BatchNorm2d(512, eps=1e-05, momentum=0.1, affine=True, track_running_stats=True)\n",
            "      (conv2): Conv2d(512, 512, kernel_size=(3, 3), stride=(1, 1), padding=(1, 1), bias=False)\n",
            "      (bn2): BatchNorm2d(512, eps=1e-05, momentum=0.1, affine=True, track_running_stats=True)\n",
            "      (conv3): Conv2d(512, 2048, kernel_size=(1, 1), stride=(1, 1), bias=False)\n",
            "      (bn3): BatchNorm2d(2048, eps=1e-05, momentum=0.1, affine=True, track_running_stats=True)\n",
            "      (relu): ReLU(inplace=True)\n",
            "    )\n",
            "    (2): Bottleneck(\n",
            "      (conv1): Conv2d(2048, 512, kernel_size=(1, 1), stride=(1, 1), bias=False)\n",
            "      (bn1): BatchNorm2d(512, eps=1e-05, momentum=0.1, affine=True, track_running_stats=True)\n",
            "      (conv2): Conv2d(512, 512, kernel_size=(3, 3), stride=(1, 1), padding=(1, 1), bias=False)\n",
            "      (bn2): BatchNorm2d(512, eps=1e-05, momentum=0.1, affine=True, track_running_stats=True)\n",
            "      (conv3): Conv2d(512, 2048, kernel_size=(1, 1), stride=(1, 1), bias=False)\n",
            "      (bn3): BatchNorm2d(2048, eps=1e-05, momentum=0.1, affine=True, track_running_stats=True)\n",
            "      (relu): ReLU(inplace=True)\n",
            "    )\n",
            "  )\n",
            "  (avgpool): AdaptiveAvgPool2d(output_size=(1, 1))\n",
            "  (fc): Linear(in_features=2048, out_features=10, bias=True)\n",
            ")\n"
          ]
        }
      ]
    },
    {
      "cell_type": "code",
      "source": [
        "model=train(model,loss_fun,optimizer,lr_scheduler,num_epoch)"
      ],
      "metadata": {
        "colab": {
          "base_uri": "https://localhost:8080/",
          "height": 948
        },
        "id": "hdNrrpHtVBA0",
        "outputId": "be68f77a-c20f-4f9f-83ef-080136ecb6a8"
      },
      "execution_count": 35,
      "outputs": [
        {
          "output_type": "stream",
          "name": "stdout",
          "text": [
            "Epoch:0 Train Loss:2.263446313560389 Train accuracy59.026671974522294 val_accuracy70.849609375\n",
            "Epoch:1 Train Loss:1.4719131117935773 Train accuracy71.63614649681529 val_accuracy71.435546875\n",
            "Epoch:2 Train Loss:1.3412827904674278 Train accuracy72.58160828025477 val_accuracy74.31640625\n",
            "Epoch:3 Train Loss:1.2500498064194514 Train accuracy74.52229299363057 val_accuracy74.267578125\n",
            "Epoch:4 Train Loss:1.219651173907006 Train accuracy74.53224522292994 val_accuracy74.853515625\n",
            "Epoch:5 Train Loss:1.1966633298997857 Train accuracy75.47770700636943 val_accuracy74.853515625\n",
            "Epoch:6 Train Loss:1.161117180232789 Train accuracy75.75636942675159 val_accuracy74.560546875\n",
            "Epoch:7 Train Loss:1.158530801344829 Train accuracy75.33837579617835 val_accuracy74.609375\n",
            "Epoch:8 Train Loss:1.165076409864008 Train accuracy75.58718152866241 val_accuracy75.1953125\n",
            "Epoch:9 Train Loss:1.148684755276153 Train accuracy76.07484076433121 val_accuracy74.70703125\n",
            "Epoch:10 Train Loss:1.1425517404535015 Train accuracy76.19426751592357 val_accuracy74.90234375\n",
            "Epoch:11 Train Loss:1.1393295523894442 Train accuracy76.25398089171973 val_accuracy75.0\n",
            "Epoch:12 Train Loss:1.1479925121044277 Train accuracy76.09474522292994 val_accuracy74.267578125\n",
            "Epoch:13 Train Loss:1.145750375251007 Train accuracy75.88574840764332 val_accuracy76.3671875\n",
            "Epoch:14 Train Loss:1.1574699217157 Train accuracy76.33359872611464 val_accuracy74.462890625\n",
            "Epoch:15 Train Loss:1.1349292234725255 Train accuracy76.38335987261146 val_accuracy75.390625\n",
            "Epoch:16 Train Loss:1.1640677667537311 Train accuracy75.04976114649682 val_accuracy75.29296875\n",
            "Epoch:17 Train Loss:1.1367179758870487 Train accuracy76.27388535031847 val_accuracy75.09765625\n",
            "Epoch:18 Train Loss:1.137677703206991 Train accuracy76.01512738853503 val_accuracy75.146484375\n",
            "Epoch:19 Train Loss:1.1408991990077078 Train accuracy76.20421974522293 val_accuracy75.09765625\n",
            "Epoch:20 Train Loss:1.145072560460799 Train accuracy76.08479299363057 val_accuracy75.048828125\n",
            "Epoch:21 Train Loss:1.1399570033903335 Train accuracy75.92555732484077 val_accuracy73.6328125\n",
            "Epoch:22 Train Loss:1.1609406388441847 Train accuracy76.13455414012739 val_accuracy74.609375\n",
            "Epoch:23 Train Loss:1.143672457854649 Train accuracy76.23407643312102 val_accuracy73.974609375\n",
            "Epoch:24 Train Loss:1.1624851797938727 Train accuracy75.90565286624204 val_accuracy74.560546875\n"
          ]
        },
        {
          "output_type": "display_data",
          "data": {
            "text/plain": [
              "<Figure size 640x480 with 1 Axes>"
            ],
            "image/png": "[encoded data removed]"
          },
          "metadata": {}
        },
        {
          "output_type": "stream",
          "name": "stdout",
          "text": [
            "Training complete in 84m 30s\n",
            "Best val Acc: 76.367188\n"
          ]
        }
      ]
    },
    {
      "cell_type": "code",
      "source": [],
      "metadata": {
        "id": "STjG_sE6VA_c"
      },
      "execution_count": null,
      "outputs": []
    },
    {
      "cell_type": "code",
      "source": [],
      "metadata": {
        "id": "Cw5sc4MCVA2l"
      },
      "execution_count": null,
      "outputs": []
    },
    {
      "cell_type": "code",
      "source": [],
      "metadata": {
        "id": "vQTYb8osQwtb"
      },
      "execution_count": null,
      "outputs": []
    },
    {
      "cell_type": "code",
      "source": [],
      "metadata": {
        "id": "DkUVbTiJQwrZ"
      },
      "execution_count": null,
      "outputs": []
    },
    {
      "cell_type": "code",
      "source": [],
      "metadata": {
        "id": "oJeWaldrQwoG"
      },
      "execution_count": null,
      "outputs": []
    }
  ]
}